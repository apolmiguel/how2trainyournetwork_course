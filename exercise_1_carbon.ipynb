{
 "cells": [
  {
   "cell_type": "markdown",
   "metadata": {},
   "source": [
    "# Part 1 - Data Prep\n",
    "\n",
    "**For those using Google Colab** _A restart may be needed to properly load the modules needed for PANNA._\n",
    "\n",
    "In this exercise, we will go through the same workflow as done in the first two tutorials, but will train potentials on a larger dataset of Carbon structures. We will also explore how the size and diversity of the dataset affect how well can our trained potentials describe  ser\n",
    "\n",
    "The notebook will be split into the following parts:\n",
    "\n",
    "1. Data Preparation _(We're not starting from `.xml` files.)_ - Convert the `.example` files to TensorFlow Records (`.tfr`) to be read by PANNA using `gvect_calculator.py` and `tfr_packer.py`  and the corresponding `.ini` files you will have to modify from the tutorials. \n",
    "\n",
    "2. Training and Validation - Train a neural network potential (NNP). Validate how well the model predicts the energies of structures that are not part of the dataset.\n",
    "\n",
    "3. Tune the model - See if we need to tune our training parameters if our first attempts to train the network do not look satisfactory.\n",
    "\n",
    "In the next notebook, we will: explore how changing the size or diversity of the dataset affects the training as well as the validation of the potentials. "
   ]
  },
  {
   "cell_type": "markdown",
   "metadata": {},
   "source": [
    "## 1a - Loading modules"
   ]
  },
  {
   "cell_type": "markdown",
   "metadata": {},
   "source": [
    "Like the first two tutorials, we have to load the necessary packages below. Make sure you uncomment the right section depending on whether you're using Colab or a local jupyter notebook copy. "
   ]
  },
  {
   "cell_type": "markdown",
   "metadata": {},
   "source": [
    "### For google colab"
   ]
  },
  {
   "cell_type": "code",
   "execution_count": null,
   "metadata": {},
   "outputs": [],
   "source": [
    "import os\n",
    "\n",
    "# Specify the absolute path to PANNA (or leave this relative path)\n",
    "panna_dir = os.path.abspath('../..')\n",
    "\n",
    "## <COLAB-RELEVANT>. Uncomment if you're using google colab  ##\n",
    "from google.colab import drive\n",
    "drive.mount('/content/drive')\n",
    "## ACTION NEEDED: Modify the directory so it points to 'panna-master' folder in your drive ##\n",
    "# panna_dir =  '/content/drive/MyDrive/.../how2trainyournetwork_course/panna-master'\n",
    "panna_dir = '/content/drive/MyDrive/SISSA/MLMS-SISSA/how2trainyournetwork_course/panna-master/'\n",
    "\n",
    "\n",
    "# Cleaning up path for command line\n",
    "panna_cmdir = panna_dir.replace(' ', '\\ ')\n",
    "\n",
    "# Check if PANNA is installed, otherwise install it\n",
    "try:\n",
    "  import panna\n",
    "  print(\"PANNA is installed correctly\")\n",
    "except ModuleNotFoundError:\n",
    "  print(\"PANNA not found, attempting to install\")\n",
    "  !pip install {panna_cmdir}"
   ]
  },
  {
   "cell_type": "markdown",
   "metadata": {},
   "source": [
    "### For jupyter notebooks"
   ]
  },
  {
   "cell_type": "markdown",
   "metadata": {},
   "source": [
    "This part assumes that you have already installed the prerequisites of PANNA. You can follow the directions in the `README.md` if you haven't done so yet."
   ]
  },
  {
   "cell_type": "code",
   "execution_count": 1,
   "metadata": {},
   "outputs": [],
   "source": [
    "import os\n",
    "import numpy as np\n",
    "import matplotlib.pyplot as plt\n",
    "import pandas as pd "
   ]
  },
  {
   "cell_type": "markdown",
   "metadata": {},
   "source": [
    "## 1b - Data preparation"
   ]
  },
  {
   "cell_type": "markdown",
   "metadata": {},
   "source": [
    "### Converting `.example` -> `.gvector`"
   ]
  },
  {
   "cell_type": "markdown",
   "metadata": {},
   "source": [
    "We will be using a dataset of 1000 diamond-like structures, with 20% set aside for validation while the remaining is used for training. Unpack the `datasets/diamond_1000.zip` file and you will see that the training and validation subdirectories have been split already.\n",
    "\n",
    "Now we convert the `.example` files to gvectors. Use `gvect_calculator.py` and create your configuration file for running the code. If you are using the `.ini` file from the tutorial, you can keep most of the gvector parameters constant and just change the directories and the species."
   ]
  },
  {
   "cell_type": "markdown",
   "metadata": {},
   "source": [
    "#### Training set"
   ]
  },
  {
   "cell_type": "code",
   "execution_count": 5,
   "metadata": {},
   "outputs": [
    {
     "name": "stdout",
     "output_type": "stream",
     "text": [
      "2025-01-18 13:24:30.079213: W tensorflow/compiler/tf2tensorrt/utils/py_utils.cc:38] TF-TRT Warning: Could not find TensorRT\n",
      "INFO - \n",
      "    ____   _    _   _ _   _    _           \n",
      "   |  _ \\ / \\  | \\ | | \\ | |  / \\     \n",
      "   | |_) / _ \\ |  \\| |  \\| | / _ \\     \n",
      "   |  __/ ___ \\| |\\  | |\\  |/ ___ \\    \n",
      "   |_| /_/   \\_\\_| \\_|_| \\_/_/   \\_\\ \n",
      "\n",
      " Properties from Artificial Neural Network Architectures\n",
      "\n",
      "INFO - PBC will be determined by lattice parameters in the json file for each example\n",
      "INFO - Radial Gaussian centers are set by Rs0_rad, Rc_rad, RsN_rad\n",
      "INFO - Angular descriptor centers are set by ThetasN\n",
      "INFO - Radial-angular Gaussian centers are set by Rs0_ang, Rc_ang, RsN_ang\n",
      "INFO - g type: mBP\n",
      "INFO - g DOI: 10.1016/j.cpc.2020.107402\n",
      "INFO - g size: 48\n",
      "INFO - the computation has been restarted (a file named gvect_already_computed.dat has been found).Already computed files will not be recomputed.\n",
      "INFO - computed keys 800/800\n",
      "INFO - --start--\n",
      "INFO - ----run----\n"
     ]
    }
   ],
   "source": [
    "!python 'panna-master/src/panna/gvect_calculator.py' --config 'input_files/gvect_dia1000_train.ini'"
   ]
  },
  {
   "cell_type": "markdown",
   "metadata": {},
   "source": [
    "#### Validation set"
   ]
  },
  {
   "cell_type": "markdown",
   "metadata": {},
   "source": [
    "Unlike `tutorial_1_data_prep.ipynb`, this time we will obtain the gvectors for the validation set explicitly. To avoid confusion, you may use a separate `.ini` file for this."
   ]
  },
  {
   "cell_type": "code",
   "execution_count": 7,
   "metadata": {},
   "outputs": [
    {
     "name": "stdout",
     "output_type": "stream",
     "text": [
      "2025-01-18 13:41:11.033085: W tensorflow/compiler/tf2tensorrt/utils/py_utils.cc:38] TF-TRT Warning: Could not find TensorRT\n",
      "INFO - \n",
      "    ____   _    _   _ _   _    _           \n",
      "   |  _ \\ / \\  | \\ | | \\ | |  / \\     \n",
      "   | |_) / _ \\ |  \\| |  \\| | / _ \\     \n",
      "   |  __/ ___ \\| |\\  | |\\  |/ ___ \\    \n",
      "   |_| /_/   \\_\\_| \\_|_| \\_/_/   \\_\\ \n",
      "\n",
      " Properties from Artificial Neural Network Architectures\n",
      "\n",
      "INFO - PBC will be determined by lattice parameters in the json file for each example\n",
      "INFO - Radial Gaussian centers are set by Rs0_rad, Rc_rad, RsN_rad\n",
      "INFO - Angular descriptor centers are set by ThetasN\n",
      "INFO - Radial-angular Gaussian centers are set by Rs0_ang, Rc_ang, RsN_ang\n",
      "INFO - g type: mBP\n",
      "INFO - g DOI: 10.1016/j.cpc.2020.107402\n",
      "INFO - g size: 48\n",
      "INFO - computed keys 0/200\n",
      "INFO - --start--\n",
      "INFO - ----run----\n",
      "INFO - start parallel computation, 196 to go\n",
      "INFO - ----run----\n",
      "INFO - start parallel computation, 192 to go\n",
      "INFO - ----run----\n",
      "INFO - start parallel computation, 188 to go\n",
      "INFO - ----run----\n",
      "INFO - start parallel computation, 184 to go\n",
      "INFO - ----run----\n",
      "INFO - start parallel computation, 180 to go\n",
      "INFO - ----run----\n",
      "INFO - start parallel computation, 176 to go\n",
      "INFO - ----run----\n",
      "INFO - start parallel computation, 172 to go\n",
      "INFO - ----run----\n",
      "INFO - start parallel computation, 168 to go\n",
      "INFO - ----run----\n",
      "INFO - start parallel computation, 164 to go\n",
      "INFO - ----run----\n",
      "INFO - start parallel computation, 160 to go\n",
      "INFO - ----run----\n",
      "INFO - start parallel computation, 156 to go\n",
      "INFO - ----run----\n",
      "INFO - start parallel computation, 152 to go\n",
      "INFO - ----run----\n",
      "INFO - start parallel computation, 148 to go\n",
      "INFO - ----run----\n",
      "INFO - start parallel computation, 144 to go\n",
      "INFO - ----run----\n",
      "INFO - start parallel computation, 140 to go\n",
      "INFO - ----run----\n",
      "INFO - start parallel computation, 136 to go\n",
      "INFO - ----run----\n",
      "INFO - start parallel computation, 132 to go\n",
      "INFO - ----run----\n",
      "INFO - start parallel computation, 128 to go\n",
      "INFO - ----run----\n",
      "INFO - start parallel computation, 124 to go\n",
      "INFO - ----run----\n",
      "INFO - start parallel computation, 120 to go\n",
      "INFO - ----run----\n",
      "INFO - start parallel computation, 116 to go\n",
      "INFO - ----run----\n",
      "INFO - start parallel computation, 112 to go\n",
      "INFO - ----run----\n",
      "INFO - start parallel computation, 108 to go\n",
      "INFO - ----run----\n",
      "INFO - start parallel computation, 104 to go\n",
      "INFO - ----run----\n",
      "INFO - start parallel computation, 100 to go\n",
      "INFO - ----run----\n",
      "INFO - start parallel computation, 96 to go\n",
      "INFO - ----run----\n",
      "INFO - start parallel computation, 92 to go\n",
      "INFO - ----run----\n",
      "INFO - start parallel computation, 88 to go\n",
      "INFO - ----run----\n",
      "INFO - start parallel computation, 84 to go\n",
      "INFO - ----run----\n",
      "INFO - start parallel computation, 80 to go\n",
      "INFO - ----run----\n",
      "INFO - start parallel computation, 76 to go\n",
      "INFO - ----run----\n",
      "INFO - start parallel computation, 72 to go\n",
      "INFO - ----run----\n",
      "INFO - start parallel computation, 68 to go\n",
      "INFO - ----run----\n",
      "INFO - start parallel computation, 64 to go\n",
      "INFO - ----run----\n",
      "INFO - start parallel computation, 60 to go\n",
      "INFO - ----run----\n",
      "INFO - start parallel computation, 56 to go\n",
      "INFO - ----run----\n",
      "INFO - start parallel computation, 52 to go\n",
      "INFO - ----run----\n",
      "INFO - start parallel computation, 48 to go\n",
      "INFO - ----run----\n",
      "INFO - start parallel computation, 44 to go\n",
      "INFO - ----run----\n",
      "INFO - start parallel computation, 40 to go\n",
      "INFO - ----run----\n",
      "INFO - start parallel computation, 36 to go\n",
      "INFO - ----run----\n",
      "INFO - start parallel computation, 32 to go\n",
      "INFO - ----run----\n",
      "INFO - start parallel computation, 28 to go\n",
      "INFO - ----run----\n",
      "INFO - start parallel computation, 24 to go\n",
      "INFO - ----run----\n",
      "INFO - start parallel computation, 20 to go\n",
      "INFO - ----run----\n",
      "INFO - start parallel computation, 16 to go\n",
      "INFO - ----run----\n",
      "INFO - start parallel computation, 12 to go\n",
      "INFO - ----run----\n",
      "INFO - start parallel computation, 8 to go\n",
      "INFO - ----run----\n",
      "INFO - start parallel computation, 4 to go\n",
      "INFO - ----run----\n",
      "INFO - start parallel computation, 0 to go\n",
      "INFO - ----run----\n"
     ]
    }
   ],
   "source": [
    "!python 'panna-master/src/panna/gvect_calculator.py' --config 'input_files/gvect_dia1000_val.ini'"
   ]
  },
  {
   "cell_type": "markdown",
   "metadata": {},
   "source": [
    "### Packing to `.tfr`"
   ]
  },
  {
   "cell_type": "markdown",
   "metadata": {},
   "source": [
    "As previously, we run `tfr_packer.py` for training and validation sets separately."
   ]
  },
  {
   "cell_type": "code",
   "execution_count": 10,
   "metadata": {},
   "outputs": [
    {
     "name": "stdout",
     "output_type": "stream",
     "text": [
      "2025-01-18 13:46:17.335642: W tensorflow/compiler/tf2tensorrt/utils/py_utils.cc:38] TF-TRT Warning: Could not find TensorRT\n",
      "INFO - file 1/8\n",
      "INFO - file already computed\n",
      "INFO - file 2/8\n",
      "INFO - file already computed\n",
      "INFO - file 3/8\n",
      "INFO - file already computed\n",
      "INFO - file 4/8\n",
      "INFO - file already computed\n",
      "INFO - file 5/8\n",
      "INFO - file already computed\n",
      "INFO - file 6/8\n",
      "INFO - file already computed\n",
      "INFO - file 7/8\n",
      "INFO - file already computed\n",
      "INFO - file 8/8\n",
      "INFO - file already computed\n"
     ]
    }
   ],
   "source": [
    "# Training\n",
    "!python 'panna-master/src/panna/tfr_packer.py' --config 'input_files/tfr_dia1000_train.ini'"
   ]
  },
  {
   "cell_type": "code",
   "execution_count": 11,
   "metadata": {},
   "outputs": [
    {
     "name": "stdout",
     "output_type": "stream",
     "text": [
      "2025-01-18 13:46:41.336974: W tensorflow/compiler/tf2tensorrt/utils/py_utils.cc:38] TF-TRT Warning: Could not find TensorRT\n",
      "INFO - file 1/2\n",
      "INFO - file 2/2\n"
     ]
    }
   ],
   "source": [
    "# Validation\n",
    "!python 'panna-master/src/panna/tfr_packer.py' --config 'input_files/tfr_dia1000_val.ini'"
   ]
  },
  {
   "cell_type": "markdown",
   "metadata": {},
   "source": [
    "# 2 - Training and validation\n",
    "\n",
    "Once the data has been prepared for both the training and validation sets, we now \n",
    "* modify the `.ini` file from the tutorial to appropriate values for our monoatomic Carbon dataset. This can mean changing the directories, offset values, gsize, etc.\n",
    "* perform a quick trial training to see if (a) there are no errors in input/outputs and (b) we are adequately training.\n"
   ]
  },
  {
   "cell_type": "markdown",
   "metadata": {},
   "source": [
    "## 2a - Checking for consistency in `gsize`\n",
    "\n",
    "Since you have to define the `g_size` parameter in the `[DEFAULT_NETWORK]` section of your configuration file, it would not hurt check what is the correct value as is done in `tutorial_1_data_prep.ipynb`.\n"
   ]
  },
  {
   "cell_type": "code",
   "execution_count": 8,
   "metadata": {},
   "outputs": [],
   "source": [
    "units = 'angstrom'\n",
    "# radial\n",
    "rc_rad = 4.6\n",
    "rs0_rad = 0\n",
    "rsn_rad = 16\n",
    "rsst_rad = (rc_rad - rs0_rad) / rsn_rad\n",
    "rs_rad = np.arange(rs0_rad, rc_rad, rsst_rad)\n",
    "eta_rad = 16\n",
    "eta_rad = np.tile(np.asarray(eta_rad), len(rs_rad))\n",
    "\n",
    "# angular\n",
    "thetasn = 8\n",
    "step_theta = np.pi / thetasn\n",
    "thetas = np.arange(0, np.pi, step_theta) + .5 * step_theta\n",
    "zeta = 50\n",
    "zeta = np.tile(np.asarray(zeta), len(thetas))\n",
    "\n",
    "# radial_angular components\n",
    "rc_ang = 3.1\n",
    "rs0_ang = 0\n",
    "rsn_ang = 4\n",
    "rsst_ang = (rc_ang - rs0_ang) / rsn_ang\n",
    "rs_ang = np.arange(rs0_ang, rc_ang, rsst_ang)\n",
    "eta_ang = 6.0\n",
    "eta_ang = np.tile(np.asarray(eta_ang), len(rs_ang))"
   ]
  },
  {
   "cell_type": "code",
   "execution_count": 9,
   "metadata": {},
   "outputs": [
    {
     "name": "stdout",
     "output_type": "stream",
     "text": [
      "Number of species is: 1\n",
      "Size of the radial part is: 16\n",
      "Size of the angular part for each species permutation is: 32\n",
      "There are 1 3-body species permutations hence the total size of the angularpart is: 32 \n",
      "The total size of the G-vector with these parameters is: 48\n"
     ]
    }
   ],
   "source": [
    "from panna.gvector import GvectmBP\n",
    "species = 'C'\n",
    "gvect_func = GvectmBP(species=species)\n",
    "nsp = len(species.split(','))\n",
    "\n",
    "gvect_func.units = units\n",
    "gvect_func.update_parameter('Rc_rad', rc_rad)\n",
    "gvect_func.update_parameter('Rs_rad', rs_rad)\n",
    "gvect_func.update_parameter('eta_rad', eta_rad)\n",
    "gvect_func.update_parameter('Thetas', thetas)\n",
    "gvect_func.update_parameter('zeta', zeta)\n",
    "gvect_func.update_parameter('Rc_ang', rc_ang)\n",
    "gvect_func.update_parameter('Rs_ang', rs_ang)\n",
    "gvect_func.update_parameter('eta_ang', eta_ang)\n",
    "\n",
    "print(\"Number of species is: {}\".format(nsp))\n",
    "\n",
    "print(\"Size of the radial part is: {}\".format(len(rs_rad) * nsp))\n",
    "\n",
    "print(\"Size of the angular part \\\n",
    "for each species permutation is: {}\".format(len(thetas)*len(rs_ang)))\n",
    "\n",
    "print(\"There are {} 3-body species permutations \\\n",
    "hence the total size of the angularpart is: {} \".format((nsp*nsp+nsp)//2 , len(thetas)*len(rs_ang) *(nsp*nsp+nsp)//2 ))\n",
    "\n",
    "print(\"The total size of the G-vector with these parameters is: {}\".\n",
    "        format(gvect_func.gsize))"
   ]
  },
  {
   "cell_type": "markdown",
   "metadata": {},
   "source": [
    "## 2b - Training and validation"
   ]
  },
  {
   "cell_type": "markdown",
   "metadata": {},
   "source": [
    "A sample `train.ini` file is shown for you below. Keep in mind that `gsize` changes according to how you set up your gvectors."
   ]
  },
  {
   "cell_type": "code",
   "execution_count": 20,
   "metadata": {},
   "outputs": [
    {
     "name": "stdout",
     "output_type": "stream",
     "text": [
      "[IO_INFORMATION]\n",
      "data_dir = ./tfr/diamond_1000/train\n",
      "train_dir = ./train_diamond1000_trial\n",
      "log_frequency = 100\n",
      "save_checkpoint_steps = 500\n",
      "\n",
      "[DATA_INFORMATION]\n",
      "atomic_sequence = C\n",
      "output_offset = -253.67376683573406\n",
      "\n",
      "[TRAINING_PARAMETERS]\n",
      "batch_size = 20\n",
      "learning_rate = 0.01\n",
      "steps_per_epoch = 1000\n",
      "max_epochs = 10\n",
      "\n",
      "[DEFAULT_NETWORK]\n",
      "g_size = 48\n",
      "architecture = 128:32:1\n",
      "trainable = 1:1:1\n",
      "\n",
      "[VALIDATION_OPTIONS]\n",
      "data_dir = ./tfr/diamond_1000/val"
     ]
    }
   ],
   "source": [
    "!cat 'input_files/train_dia1000_trial.ini'"
   ]
  },
  {
   "cell_type": "code",
   "execution_count": 14,
   "metadata": {},
   "outputs": [
    {
     "name": "stdout",
     "output_type": "stream",
     "text": [
      "2025-01-18 13:57:28.830030: W tensorflow/compiler/tf2tensorrt/utils/py_utils.cc:38] TF-TRT Warning: Could not find TensorRT\n",
      "INFO - \n",
      "    ____   _    _   _ _   _    _           \n",
      "   |  _ \\ / \\  | \\ | | \\ | |  / \\     \n",
      "   | |_) / _ \\ |  \\| |  \\| | / _ \\     \n",
      "   |  __/ ___ \\| |\\  | |\\  |/ ___ \\    \n",
      "   |_| /_/   \\_\\_| \\_|_| \\_/_/   \\_\\ \n",
      "\n",
      " Properties from Artificial Neural Network Architectures\n",
      "\n",
      "INFO - reading input_files/train_dia1000.ini\n",
      "INFO - Found a default network!\n",
      "INFO - This network size will be used as default for all species unless specified otherwise\n",
      "Epoch 1/10\n",
      "1000/1000 [==============================] - 9s 4ms/step - tot_st: 1000.0000 - MAE/at: 0.0586 - val_MAE/at: 0.0362\n",
      "Epoch 2/10\n",
      "1000/1000 [==============================] - 2s 2ms/step - tot_st: 2000.0000 - MAE/at: 0.0378 - val_MAE/at: 0.0255\n",
      "Epoch 3/10\n",
      "1000/1000 [==============================] - 2s 2ms/step - tot_st: 3000.0000 - MAE/at: 0.0315 - val_MAE/at: 0.0164\n",
      "Epoch 4/10\n",
      "1000/1000 [==============================] - 2s 2ms/step - tot_st: 4000.0000 - MAE/at: 0.0269 - val_MAE/at: 0.0175\n",
      "Epoch 5/10\n",
      "1000/1000 [==============================] - 2s 2ms/step - tot_st: 5000.0000 - MAE/at: 0.0258 - val_MAE/at: 0.0359\n",
      "Epoch 6/10\n",
      "1000/1000 [==============================] - 2s 2ms/step - tot_st: 6000.0000 - MAE/at: 0.0224 - val_MAE/at: 0.0233\n",
      "Epoch 7/10\n",
      "1000/1000 [==============================] - 2s 2ms/step - tot_st: 7000.0000 - MAE/at: 0.0209 - val_MAE/at: 0.0199\n",
      "Epoch 8/10\n",
      "1000/1000 [==============================] - 2s 2ms/step - tot_st: 8000.0000 - MAE/at: 0.0193 - val_MAE/at: 0.0432\n",
      "Epoch 9/10\n",
      "1000/1000 [==============================] - 2s 2ms/step - tot_st: 9000.0000 - MAE/at: 0.0238 - val_MAE/at: 0.0318\n",
      "Epoch 10/10\n",
      "1000/1000 [==============================] - 2s 2ms/step - tot_st: 10000.0000 - MAE/at: 0.0233 - val_MAE/at: 0.0246\n"
     ]
    }
   ],
   "source": [
    "!python 'panna-master/src/panna/train.py' --config 'input_files/train_dia1000_trial.ini'"
   ]
  },
  {
   "cell_type": "markdown",
   "metadata": {},
   "source": [
    "## 2c - Visualization"
   ]
  },
  {
   "cell_type": "markdown",
   "metadata": {},
   "source": [
    "We can quickly visualize the trial training run to see if we have trained our potential satisfiably.\n"
   ]
  },
  {
   "cell_type": "code",
   "execution_count": 19,
   "metadata": {},
   "outputs": [
    {
     "data": {
      "image/png": "[encoded data removed]",
      "text/plain": [
       "<Figure size 640x480 with 1 Axes>"
      ]
     },
     "metadata": {},
     "output_type": "display_data"
    }
   ],
   "source": [
    "df_trial = pd.read_csv('train_diamond1000_trial/metrics.dat', delim_whitespace=True)\n",
    "plt.plot(df_trial['tot_st'], df_trial['MAE/at'], color='k', label='Train')\n",
    "plt.scatter(df_trial['tot_st'], df_trial['val_MAE/at'], label='Validation')\n",
    "plt.ylabel('Energy (eV/atom)')\n",
    "plt.xlabel('steps')\n",
    "plt.legend()\n",
    "plt.show()"
   ]
  },
  {
   "cell_type": "markdown",
   "metadata": {},
   "source": [
    "# 3 - Tuning"
   ]
  },
  {
   "cell_type": "markdown",
   "metadata": {},
   "source": [
    "If the training curve of our trial run looks like it has not converged (i.e. training errors have not saturated), one of the ways is to tune the training parameters (we can also tune the gvectors/descriptors, but not for this exercise). \n",
    "\n",
    "Here are the following ways to \n",
    "\n",
    "For example, we can increased the number of `steps_per_epoch` tenfold."
   ]
  },
  {
   "cell_type": "code",
   "execution_count": 28,
   "metadata": {},
   "outputs": [
    {
     "name": "stdout",
     "output_type": "stream",
     "text": [
      "[IO_INFORMATION]\n",
      "data_dir = ./tfr/diamond_1000/train\n",
      "train_dir = ./train_diamond1000_tuned\n",
      "log_frequency = 100\n",
      "save_checkpoint_steps = 500\n",
      "\n",
      "[DATA_INFORMATION]\n",
      "atomic_sequence = C\n",
      "output_offset = -253.67376683573406\n",
      "\n",
      "[TRAINING_PARAMETERS]\n",
      "batch_size = 20\n",
      "learning_rate = 1e-5\n",
      "steps_per_epoch = 10000\n",
      "max_epochs = 10\n",
      "\n",
      "[DEFAULT_NETWORK]\n",
      "g_size = 48\n",
      "architecture = 128:32:1\n",
      "trainable = 1:1:1\n",
      "\n",
      "[VALIDATION_OPTIONS]\n",
      "data_dir = ./tfr/diamond_1000/val"
     ]
    }
   ],
   "source": [
    "!cat 'input_files/train_dia1000_tuned.ini'"
   ]
  },
  {
   "cell_type": "code",
   "execution_count": null,
   "metadata": {},
   "outputs": [
    {
     "name": "stdout",
     "output_type": "stream",
     "text": [
      "2025-01-18 14:22:18.413323: W tensorflow/compiler/tf2tensorrt/utils/py_utils.cc:38] TF-TRT Warning: Could not find TensorRT\n",
      "INFO - \n",
      "    ____   _    _   _ _   _    _           \n",
      "   |  _ \\ / \\  | \\ | | \\ | |  / \\     \n",
      "   | |_) / _ \\ |  \\| |  \\| | / _ \\     \n",
      "   |  __/ ___ \\| |\\  | |\\  |/ ___ \\    \n",
      "   |_| /_/   \\_\\_| \\_|_| \\_/_/   \\_\\ \n",
      "\n",
      " Properties from Artificial Neural Network Architectures\n",
      "\n",
      "INFO - reading input_files/train_dia1000_tuned.ini\n",
      "INFO - Found a default network!\n",
      "INFO - This network size will be used as default for all species unless specified otherwise\n",
      "Epoch 1/10\n",
      "10000/10000 [==============================] - 22s 2ms/step - tot_st: 10000.0000 - MAE/at: 0.0721 - val_MAE/at: 0.0474\n",
      "Epoch 2/10\n",
      "10000/10000 [==============================] - 19s 2ms/step - tot_st: 20000.0000 - MAE/at: 0.0361 - val_MAE/at: 0.0224\n",
      "Epoch 3/10\n",
      "10000/10000 [==============================] - 19s 2ms/step - tot_st: 30000.0000 - MAE/at: 0.0285 - val_MAE/at: 0.0147\n",
      "Epoch 4/10\n",
      "10000/10000 [==============================] - 19s 2ms/step - tot_st: 40000.0000 - MAE/at: 0.0242 - val_MAE/at: 0.0202\n",
      "Epoch 5/10\n",
      "10000/10000 [==============================] - 19s 2ms/step - tot_st: 50000.0000 - MAE/at: 0.0213 - val_MAE/at: 0.0234\n",
      "Epoch 6/10\n",
      "10000/10000 [==============================] - 19s 2ms/step - tot_st: 60000.0000 - MAE/at: 0.0193 - val_MAE/at: 0.0126\n",
      "Epoch 7/10\n",
      "10000/10000 [==============================] - 19s 2ms/step - tot_st: 70000.0000 - MAE/at: 0.0178 - val_MAE/at: 0.0158\n",
      "Epoch 8/10\n",
      "10000/10000 [==============================] - 19s 2ms/step - tot_st: 80000.0000 - MAE/at: 0.0166 - val_MAE/at: 0.0142\n",
      "Epoch 9/10\n",
      "10000/10000 [==============================] - 19s 2ms/step - tot_st: 90000.0000 - MAE/at: 0.0157 - val_MAE/at: 0.0136\n",
      "Epoch 10/10\n",
      " 4307/10000 [===========>..................] - ETA: 10s - tot_st: 94307.0000 - MAE/at: 0.0151"
     ]
    }
   ],
   "source": [
    "!python 'panna-master/src/panna/train.py' --config 'input_files/train_dia1000_tuned.ini'"
   ]
  },
  {
   "cell_type": "code",
   "execution_count": 27,
   "metadata": {},
   "outputs": [
    {
     "data": {
      "image/png": "[encoded data removed]",
      "text/plain": [
       "<Figure size 640x480 with 1 Axes>"
      ]
     },
     "metadata": {},
     "output_type": "display_data"
    }
   ],
   "source": [
    "df_tuned = pd.read_csv('train_diamond1000_tuned/metrics.dat', delim_whitespace=True)\n",
    "plt.plot(df_tuned['tot_st'], df_tuned['MAE/at'], color='k', label='Train')\n",
    "plt.scatter(df_tuned['tot_st'], df_tuned['val_MAE/at'], label='Validation')\n",
    "plt.ylabel('Energy (eV/atom)')\n",
    "plt.xlabel('steps')\n",
    "plt.legend()\n",
    "plt.show()"
   ]
  },
  {
   "cell_type": "code",
   "execution_count": null,
   "metadata": {},
   "outputs": [],
   "source": []
  }
 ],
 "metadata": {
  "colab": {
   "name": "",
   "version": ""
  },
  "kernelspec": {
   "display_name": "Python 3",
   "language": "python",
   "name": "python3"
  },
  "language_info": {
   "codemirror_mode": {
    "name": "ipython",
    "version": 3
   },
   "file_extension": ".py",
   "mimetype": "text/x-python",
   "name": "python",
   "nbconvert_exporter": "python",
   "pygments_lexer": "ipython3",
   "version": "3.10.9"
  }
 },
 "nbformat": 4,
 "nbformat_minor": 0
}
