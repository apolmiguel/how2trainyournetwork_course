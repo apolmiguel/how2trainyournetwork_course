{
 "cells": [
  {
   "cell_type": "markdown",
   "metadata": {
    "cell_id": "00000-0d386c27-77e0-4cbd-b708-2c1f2af77e67",
    "deepnote_cell_type": "code",
    "deepnote_to_be_reexecuted": false,
    "execution_millis": 4547,
    "execution_start": 1636951157266,
    "source_hash": "21206ee7",
    "tags": []
   },
   "source": [
    "# PANNA Tutorial"
   ]
  },
  {
   "cell_type": "markdown",
   "metadata": {
    "cell_id": "00002-8ffbee25-1744-4d2b-a3ab-9e1f8ea1ab39",
    "deepnote_cell_type": "markdown",
    "tags": []
   },
   "source": [
    "## Part 2 - Training and validation\n",
    "\n",
    "<div>\n",
    "<div style=\"float: right\">\n",
    "<img src=\"./figs/Fig5_FC_atomic_NN.png\" width=\"250\">\n",
    "</div>\n",
    "<div>\n",
    "<p>\n",
    "\n",
    "\n",
    "Once we have the data, we can start the supervised learning process with a neural network. PANNA is built on a TensorFlow engine for training and validating a neural network. In a standard use case, we interact with this engine only via PANNA python scripts and simple configuration files.\n",
    "\n",
    "**This step has three, mostly concurrent parts:**\n",
    "\n",
    "- Setting up a network architecture and hyperparameters\n",
    "- Training and visualization of training\n",
    "- Validation and testing\n",
    "\n",
    "\n",
    "In this tutorial we will go through the simplest neural network type, i.e. a fully connected atomic network, where we have a fully-connected sub network for each atomic species, each sub network processes the G-vectors belonging to atoms of that species, and the total energy is calculated as a sum of all network outputs. \n",
    "</p>\n",
    "</div>\n",
    "\n",
    "In this part of the tutorial tensorflow (version 2.xx) will be needed.\n",
    "Check the next cell to setup your environment and uncomment the relative sections if you need to install packages. If you are using Google colab, you can mount your drive and you can use the version magic to specify the tensorflow version before importing it.\n",
    "Plotting at the end of the tutorial will also require pandas and matplotlib."
   ]
  },
  {
   "cell_type": "code",
   "execution_count": 1,
   "metadata": {},
   "outputs": [
    {
     "name": "stdout",
     "output_type": "stream",
     "text": [
      "PANNA is installed correctly\n"
     ]
    }
   ],
   "source": [
    "import os\n",
    "\n",
    "# Specify the absolute path to PANNA (or leave this relative path)\n",
    "panna_dir = os.path.abspath('../..')\n",
    "\n",
    "# In case you need to mount the drive\n",
    "# from google.colab import drive\n",
    "# drive.mount('/content/drive')\n",
    "# panna_dir = '/content/drive/MyDrive/your_path_to_panna'\n",
    "\n",
    "# Cleaning up path for command line\n",
    "panna_cmdir = panna_dir.replace(' ', '\\ ')\n",
    "\n",
    "# Check if PANNA is installed, otherwise install it\n",
    "try:\n",
    "  import panna\n",
    "  print(\"PANNA is installed correctly\")\n",
    "except ModuleNotFoundError:\n",
    "  print(\"PANNA not found, attempting to install\")\n",
    "  !pip install panna_cmdir\n",
    "\n",
    "# If you want to install tensorflow, pandas or matplotlib\n",
    "# !pip install tensorflow>=2\n",
    "# !pip install pandas\n",
    "# !pip install matplotlib\n"
   ]
  },
  {
   "cell_type": "markdown",
   "metadata": {
    "cell_id": "00002-cdb1b37c-8e7d-4e2d-adcd-23062de6008b",
    "deepnote_cell_type": "markdown",
    "tags": []
   },
   "source": [
    "### Part 2a - Setting up a network architecture\n",
    "\n",
    "In PANNA, we set up a network architecture and hyperparameters in a configuration file, which is then used with the training script called ``train.py``. \n",
    "\n",
    "The configuration file holds other important information as well, e.g. I/O details such as where to log the training information and how frequently and parallelization details.\n",
    "\n",
    "Let's take a look at a minimal sample training configuration file:"
   ]
  },
  {
   "cell_type": "code",
   "execution_count": 2,
   "metadata": {
    "cell_id": "00003-c37f9ce2-cdf2-453c-9dbd-ea070c6509ec",
    "deepnote_cell_type": "code",
    "deepnote_to_be_reexecuted": false,
    "execution_millis": 645,
    "execution_start": 1636945503355,
    "source_hash": "9ce2a505",
    "tags": []
   },
   "outputs": [
    {
     "name": "stdout",
     "output_type": "stream",
     "text": [
      "[IO_INFORMATION]\r\n",
      "data_dir = ./tutorial_data/train\r\n",
      "train_dir = ./mytrain\r\n",
      "log_frequency = 100\r\n",
      "save_checkpoint_steps = 500\r\n",
      "\r\n",
      "[DATA_INFORMATION]\r\n",
      "atomic_sequence = H, C, O, N\r\n",
      "output_offset = -13.62, -1029.41, -2041.84, -1484.87\r\n",
      "\r\n",
      "[TRAINING_PARAMETERS]\r\n",
      "batch_size = 20\r\n",
      "learning_rate = 0.01\r\n",
      "steps_per_epoch = 100\r\n",
      "max_epochs = 10\r\n",
      "\r\n",
      "[DEFAULT_NETWORK]\r\n",
      "g_size = 384\r\n",
      "architecture = 128:32:1\r\n",
      "trainable = 1:1:1\r\n"
     ]
    }
   ],
   "source": [
    "!cat {panna_cmdir+'/doc/tutorial/input_files/mytrain.ini'}"
   ]
  },
  {
   "cell_type": "markdown",
   "metadata": {
    "cell_id": "00004-a55db8bf-c783-42dd-9719-927eb1a0df78",
    "deepnote_cell_type": "markdown",
    "tags": []
   },
   "source": [
    "**Now we have defined a simple fully-connected network**, which is made up of 4 atomic networks (one for each species). By defeault each species network has the same architecture: 2 hidden layers of 128 and 32 nodes, 1 output node, and all nodes are trainable, i.e. no layer is frozen. \n",
    "\n",
    "**We have also set some parameters for the trainig.** These sample parameters are going to result in a relatively short training (not very realistic for a production run!). At every step the learning is going to take place by using a loss/cost function using 20 configurations (as dictated by ``batch_size`` key). To determine how long the training will run, we define an \"epoch\" as a set of 100 steps, and require the code to perform 10 epochs of optimization, resulting in 1000 optimization steps (in theory an epoch is defined as the time to use each example in the training set once, but we can also choose it to be an arbitrary number).\n",
    "\n",
    "**Note that we have not specified all the parameters we can here, we are relying on the defaults**. As you get more proficient with generation of NN potentials you can experiment with them all, e.g. different activation functions, training algorithms, fuctional forms for the loss function beyond the quadratic RMSE formula, regularization etc.\n",
    "\n",
    "**PANNA is based on the TF engine.** So if a new activation function, or a fancy new training algorithm is available in TF, it is available in PANNA. Furthermore, we have also implemented several options that are only relevant for the atomistic simulation community, e.g. per-atom loss functions, Gaussian activation function to ensure smoothness of the final NN potential etc. "
   ]
  },
  {
   "cell_type": "markdown",
   "metadata": {
    "cell_id": "00008-85f65633-1e3c-4aed-af66-0c6b35cebdf7",
    "deepnote_cell_type": "markdown",
    "tags": []
   },
   "source": [
    "### Part 2b Training and visualization"
   ]
  },
  {
   "cell_type": "code",
   "execution_count": 3,
   "metadata": {
    "cell_id": "00006-14e7222d-64ee-4ad0-908e-5c8c7d4c6e3f",
    "deepnote_cell_type": "code",
    "deepnote_to_be_reexecuted": false,
    "execution_millis": 19627,
    "execution_start": 1637000609012,
    "source_hash": "5e4ad847",
    "tags": []
   },
   "outputs": [
    {
     "name": "stdout",
     "output_type": "stream",
     "text": [
      "2023-04-23 11:40:10.479446: W tensorflow/compiler/xla/stream_executor/platform/default/dso_loader.cc:64] Could not load dynamic library 'libnvinfer.so.7'; dlerror: libnvinfer.so.7: cannot open shared object file: No such file or directory; LD_LIBRARY_PATH: /usr/local/cuda-11.2/lib64\n",
      "2023-04-23 11:40:10.479507: W tensorflow/compiler/xla/stream_executor/platform/default/dso_loader.cc:64] Could not load dynamic library 'libnvinfer_plugin.so.7'; dlerror: libnvinfer_plugin.so.7: cannot open shared object file: No such file or directory; LD_LIBRARY_PATH: /usr/local/cuda-11.2/lib64\n",
      "2023-04-23 11:40:10.479513: W tensorflow/compiler/tf2tensorrt/utils/py_utils.cc:38] TF-TRT Warning: Cannot dlopen some TensorRT libraries. If you would like to use Nvidia GPU with TensorRT, please make sure the missing libraries mentioned above are installed properly.\n",
      "INFO - \n",
      "    ____   _    _   _ _   _    _           \n",
      "   |  _ \\ / \\  | \\ | | \\ | |  / \\     \n",
      "   | |_) / _ \\ |  \\| |  \\| | / _ \\     \n",
      "   |  __/ ___ \\| |\\  | |\\  |/ ___ \\    \n",
      "   |_| /_/   \\_\\_| \\_|_| \\_/_/   \\_\\ \n",
      "\n",
      " Properties from Artificial Neural Network Architectures\n",
      "\n",
      "INFO - reading ./input_files/mytrain.ini\n",
      "INFO - Found a default network!\n",
      "INFO - This network size will be used as default for all species unless specified otherwise\n",
      "Epoch 1/10\n",
      "100/100 [==============================] - 4s 7ms/step - tot_st: 100.0000 - MAE/at: 0.1493\n",
      "Epoch 2/10\n",
      "100/100 [==============================] - 1s 5ms/step - tot_st: 200.0000 - MAE/at: 0.0279\n",
      "Epoch 3/10\n",
      "100/100 [==============================] - 1s 6ms/step - tot_st: 300.0000 - MAE/at: 0.0225\n",
      "Epoch 4/10\n",
      "100/100 [==============================] - 1s 5ms/step - tot_st: 400.0000 - MAE/at: 0.0226\n",
      "Epoch 5/10\n",
      "100/100 [==============================] - 1s 6ms/step - tot_st: 500.0000 - MAE/at: 0.0174\n",
      "Epoch 6/10\n",
      "100/100 [==============================] - 1s 6ms/step - tot_st: 600.0000 - MAE/at: 0.0137\n",
      "Epoch 7/10\n",
      "100/100 [==============================] - 1s 5ms/step - tot_st: 700.0000 - MAE/at: 0.0113\n",
      "Epoch 8/10\n",
      "100/100 [==============================] - 1s 5ms/step - tot_st: 800.0000 - MAE/at: 0.0153\n",
      "Epoch 9/10\n",
      "100/100 [==============================] - 1s 6ms/step - tot_st: 900.0000 - MAE/at: 0.0134\n",
      "Epoch 10/10\n",
      "100/100 [==============================] - 1s 8ms/step - tot_st: 1000.0000 - MAE/at: 0.0106\n"
     ]
    }
   ],
   "source": [
    "# Let us run a mock training case:\n",
    "!cd {panna_cmdir+'/doc/tutorial/'}; python {panna_cmdir+'/src/panna/train.py'} --config ./input_files/mytrain.ini"
   ]
  },
  {
   "cell_type": "markdown",
   "metadata": {
    "cell_id": "00008-3b4d14cb-5a25-4573-b974-698d4779e8e8",
    "deepnote_cell_type": "markdown",
    "tags": []
   },
   "source": [
    "This was a NN training for 1000 steps, 20 configurations in each batch. The total data we used was 900 configurations from H2O, NH3 and CH4 molecules, 300 configurations each. Configurations are taken from the ANI dataset and total energy calculations performed with Quantum Espresso, as we have done before in Part 1 of this tutorial.\n",
    "\n",
    "We don't expect a reliable NN potential from this train, as for each species we are training a network of size ~(384 x 128) = 50k parameters, for 4 species this means a 200k parameter network, with considerably small amount of data. However, the training speed per batch does not change with the data size so even this small exercise is enough to show us how rapid the TF engine works, without even flexing with the parallelization algorithms available.\n",
    "\n",
    "**Training speed is relevant for scientific applications**, because finding the right G-vector parameters, network architecture etc. can take many training trial and error iterations. Furthermore, this also allows us to build multiple networks for a single system and use committee-learning as a (very!) simplified approximation for error bar of our network predictions. "
   ]
  },
  {
   "cell_type": "markdown",
   "metadata": {
    "cell_id": "00009-6d231576-3952-4d47-aa8e-e02a76f8d874",
    "deepnote_cell_type": "markdown",
    "tags": []
   },
   "source": [
    "The training step has a few outputs to pay attention to, in the directory we specified as ``train_dir`` in the configuration file, for this example ``doc/tutorial/mytrain``:\n",
    "\n",
    "As a default, the code writes to command line the error during training as the mean absolute error (MAE) per atom in the simulation. We can also access this data, computed once per epoch, in the file ``metrics.dat`` in the training directory.\n",
    "\n",
    "In the subfolder ``_models`` in the same directory, we can find the neural network information as multiple 'checkpoints' i.e. snapshots of the network saved during training. "
   ]
  },
  {
   "cell_type": "code",
   "execution_count": 4,
   "metadata": {
    "cell_id": "00012-6b546a10-cf54-4f8c-82e0-89e597698d7d",
    "deepnote_cell_type": "code",
    "deepnote_to_be_reexecuted": false,
    "execution_millis": 1185,
    "execution_start": 1637000731344,
    "source_hash": "f491e3f5",
    "tags": []
   },
   "outputs": [
    {
     "name": "stdout",
     "output_type": "stream",
     "text": [
      "epoch MAE/at tot_st\n",
      "0 0.039821624755859375 100\n",
      "1 0.03187663108110428 200\n",
      "2 0.012678883969783783 300\n",
      "3 0.019117996096611023 400\n",
      "4 0.009907471016049385 500\n",
      "5 0.017504841089248657 600\n",
      "6 0.016212349757552147 700\n",
      "7 0.01463889516890049 800\n",
      "8 0.017903482541441917 900\n",
      "9 0.013020811602473259 1000\n",
      "checkpoint\t\t\t\tepoch_5_step_500.data-00000-of-00001\n",
      "epoch_10_step_1000.data-00000-of-00001\tepoch_5_step_500.index\n",
      "epoch_10_step_1000.index\n"
     ]
    }
   ],
   "source": [
    "!cat {panna_cmdir+'/doc/tutorial/mytrain/metrics.dat'}\n",
    "!ls {panna_cmdir+'/doc/tutorial/mytrain/_models'}"
   ]
  },
  {
   "cell_type": "markdown",
   "metadata": {
    "cell_id": "00013-4327b430-de4b-4b7e-a2a2-e6326fbf9f29",
    "deepnote_cell_type": "markdown",
    "tags": []
   },
   "source": [
    "One very useful TF tool for monitoring training is called tensorboard, which allows us to visualize the training process through multiple metrics.\n",
    "\n",
    "The command in the next cell will start tensorboard pointing at your training directory.\n",
    "If you're running on your local machine, this can then be opened in a browser by navigating to http://0.0.0.0:8080/.\n",
    "\n",
    "Stop the execution of the cell once you're done exploring the board.\n",
    "\n",
    "If you're running this in a remote environement such as Deepnote you might be able to access tensorboard by allowing incoming connection. E.g. for deepnote:\n",
    "* Go to environment tab\n",
    "* Allow incoming connections\n",
    "* Copy the link you see there, which is where the visualizations will be served:\n",
    "\n",
    "If you're running in Google colab, you should be able to use Tensorboard directly in the notebook by using the magics below instead of the command line."
   ]
  },
  {
   "cell_type": "code",
   "execution_count": 5,
   "metadata": {
    "cell_id": "00014-12268463-5950-43a7-b214-b68df38a5912",
    "deepnote_cell_type": "code",
    "deepnote_to_be_reexecuted": false,
    "execution_millis": 390594,
    "execution_start": 1637000773042,
    "source_hash": "5e0dce36",
    "tags": []
   },
   "outputs": [
    {
     "name": "stdout",
     "output_type": "stream",
     "text": [
      "2023-01-30 12:08:33.969564: W tensorflow/compiler/xla/stream_executor/platform/default/dso_loader.cc:64] Could not load dynamic library 'libnvinfer.so.7'; dlerror: libnvinfer.so.7: cannot open shared object file: No such file or directory; LD_LIBRARY_PATH: /usr/local/cuda-11.2/lib64\n",
      "2023-01-30 12:08:33.969605: W tensorflow/compiler/xla/stream_executor/platform/default/dso_loader.cc:64] Could not load dynamic library 'libnvinfer_plugin.so.7'; dlerror: libnvinfer_plugin.so.7: cannot open shared object file: No such file or directory; LD_LIBRARY_PATH: /usr/local/cuda-11.2/lib64\n",
      "2023-01-30 12:08:33.969611: W tensorflow/compiler/tf2tensorrt/utils/py_utils.cc:38] TF-TRT Warning: Cannot dlopen some TensorRT libraries. If you would like to use Nvidia GPU with TensorRT, please make sure the missing libraries mentioned above are installed properly.\n",
      "\n",
      "NOTE: Using experimental fast data loading logic. To disable, pass\n",
      "    \"--load_fast=false\" and report issues on GitHub. More details:\n",
      "    https://github.com/tensorflow/tensorboard/issues/4784\n",
      "\n",
      "TensorBoard 2.11.0 at http://0.0.0.0:8080/ (Press CTRL+C to quit)\n",
      "^C\n"
     ]
    }
   ],
   "source": [
    "!tensorboard --logdir={panna_cmdir+'/doc/tutorial/mytrain'} --host=0.0.0.0 --port=8080\n",
    "\n",
    "# If you want to run in browser use the following magics instead\n",
    "# %load_ext tensorboard\n",
    "# %tensorboard --logdir {panna_cmdir+'/doc/tutorial/mytrain'}"
   ]
  },
  {
   "cell_type": "markdown",
   "metadata": {
    "cell_id": "00015-57d1e888-0afa-4936-910d-a3dec0743b2a",
    "deepnote_cell_type": "markdown",
    "tags": []
   },
   "source": [
    "Tensorboard allows us to visualize training as it goes on. It is useful to visualize multiple metrics at once and intervene as needed.\n",
    "\n"
   ]
  },
  {
   "cell_type": "markdown",
   "metadata": {
    "cell_id": "00017-0a4528c0-3373-4e35-ba1b-68f2b56f5c00",
    "deepnote_cell_type": "markdown",
    "tags": []
   },
   "source": [
    "### Part 2c Validation "
   ]
  },
  {
   "cell_type": "markdown",
   "metadata": {
    "cell_id": "00018-36174822-83ca-4898-80cc-066b0445d6dd",
    "deepnote_cell_type": "markdown",
    "tags": []
   },
   "source": [
    "We use the word \"validation\" here in its meaning in the machine learning community, i.e. **\"does the model perform similarly on a dataset that was not used in the training?\"**\n",
    "\n",
    "Validation of the neural network can be done as the training continues by using the snapshots of the network that are stored during training, aka \"checkpoints\".  \n",
    "\n",
    "Tensorflow also allows an automated validation embedded in the training, i.e. it stops the training at every X steps to evaluate the network on validation dataset. Here, to have more control, we will run validation manually instead."
   ]
  },
  {
   "cell_type": "markdown",
   "metadata": {
    "cell_id": "00020-1407b121-8d7a-4357-b270-971aaa9363cd",
    "deepnote_cell_type": "markdown",
    "tags": []
   },
   "source": [
    "The data we will use for validation purposes are placed in ``panna_data/tutorial/mytrain_val`` directory. Like the training step, the data are in tfr format, i.e. structures are converted to G-vectors and packaged."
   ]
  },
  {
   "cell_type": "code",
   "execution_count": 6,
   "metadata": {
    "cell_id": "00019-03286889-eb30-406d-b3f9-42c4c728a4b1",
    "deepnote_cell_type": "code",
    "deepnote_to_be_reexecuted": false,
    "execution_millis": 783,
    "execution_start": 1636947015290,
    "source_hash": "ab1960a3",
    "tags": []
   },
   "outputs": [
    {
     "name": "stdout",
     "output_type": "stream",
     "text": [
      "train-2-10.tfrecord  train-5-10.tfrecord\r\n"
     ]
    }
   ],
   "source": [
    "!ls {panna_cmdir+'/doc/tutorial/tutorial_data/validate'}"
   ]
  },
  {
   "cell_type": "markdown",
   "metadata": {
    "cell_id": "00021-598fab89-20fc-4cce-b500-282ad7b94953",
    "deepnote_cell_type": "markdown",
    "tags": []
   },
   "source": [
    "The python script we will use for validation is called ``evaluate.py``. It takes a configuration file to identify important information, e.g. which neural network and data to use in validation and where to find them. Let's see a minimal sample configuration file:"
   ]
  },
  {
   "cell_type": "code",
   "execution_count": 7,
   "metadata": {
    "cell_id": "00020-fb364b5a-0855-44ce-a425-73a9b58a7203",
    "deepnote_cell_type": "code",
    "deepnote_to_be_reexecuted": false,
    "execution_millis": 614,
    "execution_start": 1636947092814,
    "source_hash": "1c13aff3",
    "tags": []
   },
   "outputs": [
    {
     "name": "stdout",
     "output_type": "stream",
     "text": [
      "[IO_INFORMATION]\r\n",
      "data_dir = ./tutorial_data/validate\r\n",
      "train_ini = ./input_files/mytrain.ini\r\n",
      "networks_dir = ./mytrain/_models\r\n",
      "eval_dir = ./myvalidation\r\n",
      "\r\n",
      "[VALIDATION_OPTIONS]\r\n",
      "single_step = True \r\n",
      "\r\n"
     ]
    }
   ],
   "source": [
    "!cat {panna_cmdir+'/doc/tutorial/input_files/myvalidation.ini'}"
   ]
  },
  {
   "cell_type": "markdown",
   "metadata": {
    "cell_id": "00023-7c67cca6-4cdc-45c1-adad-e807e51571c5",
    "deepnote_cell_type": "markdown",
    "tags": []
   },
   "source": [
    "The ``[IO_INFORMATION]`` section of the configuration file should point to where to find the stored networks (\"checkpoints\" saved while training) and ``[VALIDATION_OPTIONS]`` section gives us control about whether to evaluate every checkpoint, or just the last step of the training or a network that was produced at a particular training step we wish to examine."
   ]
  },
  {
   "cell_type": "code",
   "execution_count": 8,
   "metadata": {
    "cell_id": "00022-d0aba9ec-3057-49e4-8e1e-a76bfb2e2412",
    "deepnote_cell_type": "code",
    "deepnote_to_be_reexecuted": false,
    "execution_millis": 6997,
    "execution_start": 1637001212131,
    "source_hash": "401eb0f1",
    "tags": []
   },
   "outputs": [
    {
     "name": "stdout",
     "output_type": "stream",
     "text": [
      "2023-01-30 12:08:51.516486: W tensorflow/compiler/xla/stream_executor/platform/default/dso_loader.cc:64] Could not load dynamic library 'libnvinfer.so.7'; dlerror: libnvinfer.so.7: cannot open shared object file: No such file or directory; LD_LIBRARY_PATH: /usr/local/cuda-11.2/lib64\n",
      "2023-01-30 12:08:51.516528: W tensorflow/compiler/xla/stream_executor/platform/default/dso_loader.cc:64] Could not load dynamic library 'libnvinfer_plugin.so.7'; dlerror: libnvinfer_plugin.so.7: cannot open shared object file: No such file or directory; LD_LIBRARY_PATH: /usr/local/cuda-11.2/lib64\n",
      "2023-01-30 12:08:51.516534: W tensorflow/compiler/tf2tensorrt/utils/py_utils.cc:38] TF-TRT Warning: Cannot dlopen some TensorRT libraries. If you would like to use Nvidia GPU with TensorRT, please make sure the missing libraries mentioned above are installed properly.\n",
      "INFO - \n",
      "    ____   _    _   _ _   _    _           \n",
      "   |  _ \\ / \\  | \\ | | \\ | |  / \\     \n",
      "   | |_) / _ \\ |  \\| |  \\| | / _ \\     \n",
      "   |  __/ ___ \\| |\\  | |\\  |/ ___ \\    \n",
      "   |_| /_/   \\_\\_| \\_|_| \\_/_/   \\_\\ \n",
      "\n",
      " Properties from Artificial Neural Network Architectures\n",
      "\n",
      "INFO - reading ./input_files/myvalidation.ini\n",
      "INFO - reading ./input_files/mytrain.ini\n",
      "INFO - evaluating last checkpoint\n",
      "INFO - Found a default network!\n",
      "INFO - This network size will be used as default for all species unless specified otherwise\n",
      "INFO - ----start evaluation----\n",
      "INFO - validating network: 1/1, epoch: 10 step: 1000\n",
      "180/180 [==============================] - 1s 2ms/step\n",
      "INFO - eval time = 0.88 s\n",
      "INFO - file names are not available\n",
      "INFO - write time = 0.00 s\n"
     ]
    }
   ],
   "source": [
    "!cd {panna_cmdir+'/doc/tutorial/'}; python {panna_cmdir+'/src/panna/evaluate.py'} --config ./input_files/myvalidation.ini"
   ]
  },
  {
   "cell_type": "markdown",
   "metadata": {
    "cell_id": "00026-d5f0f47f-50b4-444f-816e-00e60ac75710",
    "deepnote_cell_type": "markdown",
    "tags": []
   },
   "source": [
    "The validation ends rapidly, as we have only one network to validate on a small dataset. The results are in the directory we specified in the configuration file:"
   ]
  },
  {
   "cell_type": "code",
   "execution_count": 9,
   "metadata": {
    "cell_id": "00027-9043a435-a9a7-434a-837b-45e7517d694a",
    "deepnote_cell_type": "code",
    "deepnote_to_be_reexecuted": false,
    "execution_millis": 844,
    "execution_start": 1637001240684,
    "source_hash": "f10a3994",
    "tags": []
   },
   "outputs": [
    {
     "name": "stdout",
     "output_type": "stream",
     "text": [
      "epoch_10_step_1000.dat\r\n"
     ]
    }
   ],
   "source": [
    "!ls {panna_cmdir+'/doc/tutorial/myvalidation'}"
   ]
  },
  {
   "cell_type": "code",
   "execution_count": 10,
   "metadata": {
    "cell_id": "00028-89987a2d-e589-4220-9c13-e4c5a010b647",
    "deepnote_cell_type": "code",
    "deepnote_to_be_reexecuted": false,
    "execution_millis": 753,
    "execution_start": 1636951342046,
    "source_hash": "a3b79da1",
    "tags": []
   },
   "outputs": [
    {
     "name": "stdout",
     "output_type": "stream",
     "text": [
      "#filename n_atoms e_ref e_nn\r\n",
      "N.A. 3 -2078.14306640625 -2078.103271484375\r\n",
      "N.A. 3 -2077.911376953125 -2077.899169921875\r\n",
      "N.A. 5 -1101.7099609375 -1101.574462890625\r\n",
      "N.A. 4 -1537.5460205078125 -1537.413330078125\r\n"
     ]
    }
   ],
   "source": [
    "!head -5 {panna_cmdir+'/doc/tutorial/myvalidation/epoch_10_step_1000.dat'}\n",
    "# not printing out the filename or key to keep the files lean"
   ]
  },
  {
   "cell_type": "code",
   "execution_count": 11,
   "metadata": {
    "cell_id": "00029-876e51f0-656c-4366-8cc8-3fbd9376098a",
    "deepnote_cell_type": "code",
    "deepnote_to_be_reexecuted": false,
    "execution_millis": 143,
    "execution_start": 1636952708345,
    "source_hash": "482b71b7",
    "tags": []
   },
   "outputs": [],
   "source": [
    "import numpy as np\n",
    "import matplotlib.pyplot as plt\n",
    "import pandas as pd\n",
    "df = pd.read_csv(panna_dir+'/doc/tutorial/myvalidation/epoch_10_step_1000.dat', delim_whitespace=True)\n",
    "#df"
   ]
  },
  {
   "cell_type": "code",
   "execution_count": 12,
   "metadata": {
    "cell_id": "00030-4706edc9-5f00-4c10-b3d5-f20c4a079de5",
    "deepnote_cell_type": "code",
    "deepnote_output_heights": [
     264
    ],
    "deepnote_to_be_reexecuted": false,
    "execution_millis": 286,
    "execution_start": 1636952717262,
    "source_hash": "64bc8529",
    "tags": []
   },
   "outputs": [
    {
     "data": {
      "image/png": "[encoded data removed]",
      "text/plain": [
       "<Figure size 432x288 with 1 Axes>"
      ]
     },
     "metadata": {
      "needs_background": "light"
     },
     "output_type": "display_data"
    }
   ],
   "source": [
    "#Pandas have useful plotting tools but if you want to stick to matplotlib:\n",
    "plt.plot((df['e_ref'] -df['e_nn'])/df['n_atoms'], 'b.')\n",
    "plt.ylabel('DFT - ANN (eV/atom)')\n",
    "plt.xlabel('config. index')\n",
    "plt.show()"
   ]
  },
  {
   "cell_type": "code",
   "execution_count": 13,
   "metadata": {},
   "outputs": [],
   "source": [
    "# Run this to cleanup the tutorial directory\n",
    "# (do not remove these files if you want to follow part 3, converting the network to a lammps potential)\n",
    "!cd {panna_cmdir+'/doc/tutorial'}; rm -rf mytrain mytrain_logs myvalidation tf.log"
   ]
  },
  {
   "cell_type": "code",
   "execution_count": null,
   "metadata": {},
   "outputs": [],
   "source": []
  }
 ],
 "metadata": {
  "kernelspec": {
   "display_name": "Python 3",
   "language": "python",
   "name": "python3"
  },
  "language_info": {
   "codemirror_mode": {
    "name": "ipython",
    "version": 3
   },
   "file_extension": ".py",
   "mimetype": "text/x-python",
   "name": "python",
   "nbconvert_exporter": "python",
   "pygments_lexer": "ipython3",
   "version": "3.7.16"
  }
 },
 "nbformat": 4,
 "nbformat_minor": 2
}
