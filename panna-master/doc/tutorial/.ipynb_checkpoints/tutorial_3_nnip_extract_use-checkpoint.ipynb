{
 "cells": [
  {
   "cell_type": "markdown",
   "metadata": {
    "cell_id": "00000-cf89595e-cc58-4e0f-9976-c44b7caa5a17",
    "deepnote_cell_type": "code",
    "deepnote_to_be_reexecuted": false,
    "execution_millis": 5231,
    "execution_start": 1636954004743,
    "source_hash": "f290e93",
    "tags": []
   },
   "source": [
    "# PANNA Tutorial"
   ]
  },
  {
   "cell_type": "markdown",
   "metadata": {
    "cell_id": "00001-42b3cce1-765a-436e-a4aa-2859ce9df532",
    "deepnote_cell_type": "markdown",
    "tags": []
   },
   "source": [
    "## Part 3 - NN Interatomic potential: Extract & Use elsewhere\n"
   ]
  },
  {
   "cell_type": "markdown",
   "metadata": {
    "cell_id": "00003-5bd9c2e5-def5-4cf3-92b1-0bd877ac3a5d",
    "deepnote_cell_type": "markdown",
    "tags": []
   },
   "source": [
    "### Part 3a - Extract the network weights\n",
    "\n",
    "As of now, the network is still in a format only available within tensorflow. In this part of the tutorial we will see \n",
    "* how to extract it and \n",
    "* use elsewehre, e.g. within LAMMPS or ASE.\n",
    "\n",
    "The second part of this tutorial requires LAMMPS to be installed on your system with the PANNA plugin.\n",
    "See that part for installation instructions.\n",
    "The last part requires the installation of ASE, see details in that cell.\n",
    "\n",
    "If LAMMPS and the plugin are already installed, please modify the executable string in the next cell as appropriate.\n",
    "The other setup is similar to the previous notebooks."
   ]
  },
  {
   "cell_type": "code",
   "execution_count": 1,
   "metadata": {},
   "outputs": [
    {
     "name": "stdout",
     "output_type": "stream",
     "text": [
      "PANNA is installed correctly\n"
     ]
    }
   ],
   "source": [
    "import os\n",
    "\n",
    "# Specify the absolute path to PANNA (or leave this relative path)\n",
    "panna_dir = os.path.abspath('../..')\n",
    "\n",
    "# In case you need to mount the drive\n",
    "# from google.colab import drive\n",
    "# drive.mount('/content/drive')\n",
    "# panna_dir = '/content/drive/MyDrive/your_path_to_panna'\n",
    "\n",
    "# Cleaning up path for command line\n",
    "panna_cmdir = panna_dir.replace(' ', '\\ ')\n",
    "\n",
    "# Check if PANNA is installed, otherwise install it\n",
    "try:\n",
    "  import panna\n",
    "  print(\"PANNA is installed correctly\")\n",
    "except ModuleNotFoundError:\n",
    "  print(\"PANNA not found, attempting to install\")\n",
    "  !pip install panna_cmdir\n",
    "\n",
    "# Specify your lammps command\n",
    "lammps_cmd = 'path_to_lammps/bin/lmp'\n",
    "lammps_cmd = lammps_cmd.replace(' ', '\\ ')"
   ]
  },
  {
   "cell_type": "markdown",
   "metadata": {},
   "source": [
    "The script that converts the network model from TF checkpoint format to one that can be used outside TF is ``extract_weights.py``. The configuration file for this script is minimal:"
   ]
  },
  {
   "cell_type": "code",
   "execution_count": 2,
   "metadata": {
    "cell_id": "00004-d8608239-2fa0-4921-b425-36c42cef6335",
    "deepnote_cell_type": "code",
    "deepnote_to_be_reexecuted": false,
    "execution_millis": 832,
    "execution_start": 1636954226350,
    "source_hash": "a066039c",
    "tags": []
   },
   "outputs": [
    {
     "name": "stdout",
     "output_type": "stream",
     "text": [
      "[IO_INFORMATION]\r\n",
      "network_dir = ./mytrain/_models\r\n",
      "step_number = -1\r\n",
      "output_dir = ./panna_weights\r\n",
      "output_type = PANNA\r\n",
      "train_input = ./input_files/mytrain.ini\r\n",
      "gvector_input = ./input_files/mygvect_sample.ini\r\n"
     ]
    }
   ],
   "source": [
    "!cat {panna_cmdir+'/doc/tutorial/input_files/myextract.ini'}"
   ]
  },
  {
   "cell_type": "code",
   "execution_count": 3,
   "metadata": {
    "cell_id": "00005-829c41d5-365c-4a5b-8d85-e61ef590baab",
    "deepnote_cell_type": "code",
    "deepnote_to_be_reexecuted": false,
    "execution_millis": 4508,
    "execution_start": 1636954233076,
    "source_hash": "38a3e64e",
    "tags": []
   },
   "outputs": [
    {
     "name": "stdout",
     "output_type": "stream",
     "text": [
      "2023-01-30 12:09:40.618302: W tensorflow/compiler/xla/stream_executor/platform/default/dso_loader.cc:64] Could not load dynamic library 'libnvinfer.so.7'; dlerror: libnvinfer.so.7: cannot open shared object file: No such file or directory; LD_LIBRARY_PATH: /usr/local/cuda-11.2/lib64\n",
      "2023-01-30 12:09:40.618346: W tensorflow/compiler/xla/stream_executor/platform/default/dso_loader.cc:64] Could not load dynamic library 'libnvinfer_plugin.so.7'; dlerror: libnvinfer_plugin.so.7: cannot open shared object file: No such file or directory; LD_LIBRARY_PATH: /usr/local/cuda-11.2/lib64\n",
      "2023-01-30 12:09:40.618352: W tensorflow/compiler/tf2tensorrt/utils/py_utils.cc:38] TF-TRT Warning: Cannot dlopen some TensorRT libraries. If you would like to use Nvidia GPU with TensorRT, please make sure the missing libraries mentioned above are installed properly.\n",
      "INFO - \n",
      "    ____   _    _   _ _   _    _           \n",
      "   |  _ \\ / \\  | \\ | | \\ | |  / \\     \n",
      "   | |_) / _ \\ |  \\| |  \\| | / _ \\     \n",
      "   |  __/ ___ \\| |\\  | |\\  |/ ___ \\    \n",
      "   |_| /_/   \\_\\_| \\_|_| \\_/_/   \\_\\ \n",
      "\n",
      " Properties from Artificial Neural Network Architectures\n",
      "\n",
      "INFO - PBC will be determined by lattice parameters in the json file for each example\n",
      "INFO - Radial Gaussian centers are set by Rs0_rad, Rc_rad, RsN_rad\n",
      "INFO - Angular descriptor centers are set by ThetasN\n",
      "INFO - Radial-angular Gaussian centers areset by Rs0_ang, Rc_ang, RsN_ang\n",
      "INFO - g type: mBP\n",
      "INFO - g DOI: 10.1016/j.cpc.2020.107402\n",
      "INFO - g size: 384\n",
      "INFO - Will load weights from file ./mytrain/_models/epoch_10_step_1000\n",
      "INFO - reading ./input_files/mytrain.ini\n",
      "INFO - Found a default network!\n",
      "INFO - This network size will be used as default for all species unless specified otherwise\n"
     ]
    }
   ],
   "source": [
    "!cd {panna_cmdir+'/doc/tutorial/'}; python {panna_cmdir+'/src/panna/extract_weights.py'} --config ./input_files/myextract.ini"
   ]
  },
  {
   "cell_type": "markdown",
   "metadata": {
    "cell_id": "00006-72def4c5-5208-4e94-8933-fa6ec0cc797c",
    "deepnote_cell_type": "markdown",
    "tags": []
   },
   "source": [
    "The script makes checks and writes logs about what kind of input this network was prepared with (e.g. descriptor type). Then it stores the weights in the specified format. Above we have specified PANNA format which stores metadata in a `.json` file and all parameters in several `.npy` files for easy manipulation."
   ]
  },
  {
   "cell_type": "code",
   "execution_count": 4,
   "metadata": {},
   "outputs": [
    {
     "name": "stdout",
     "output_type": "stream",
     "text": [
      "C_l0_b.npy  C_l2_w.npy\tH_l2_b.npy\t\tN_l1_b.npy  O_l0_w.npy\r\n",
      "C_l0_w.npy  H_l0_b.npy\tH_l2_w.npy\t\tN_l1_w.npy  O_l1_b.npy\r\n",
      "C_l1_b.npy  H_l0_w.npy\tnetworks_metadata.json\tN_l2_b.npy  O_l1_w.npy\r\n",
      "C_l1_w.npy  H_l1_b.npy\tN_l0_b.npy\t\tN_l2_w.npy  O_l2_b.npy\r\n",
      "C_l2_b.npy  H_l1_w.npy\tN_l0_w.npy\t\tO_l0_b.npy  O_l2_w.npy\r\n"
     ]
    }
   ],
   "source": [
    "# PANNA data format outputs:\n",
    "!ls {panna_cmdir+'/doc/tutorial/panna_weights'}"
   ]
  },
  {
   "cell_type": "markdown",
   "metadata": {},
   "source": [
    "If you are interested in using the potential in a code like LAMMPS, you can use the corresponding format:"
   ]
  },
  {
   "cell_type": "code",
   "execution_count": 3,
   "metadata": {
    "cell_id": "00007-d426b3a3-5538-46ea-ab61-276ad45b6bcd",
    "deepnote_cell_type": "code",
    "deepnote_to_be_reexecuted": false,
    "execution_millis": 630,
    "execution_start": 1636954241318,
    "source_hash": "1ec78b29",
    "tags": []
   },
   "outputs": [
    {
     "name": "stdout",
     "output_type": "stream",
     "text": [
      "[IO_INFORMATION]\r\n",
      "network_dir = ./mytrain/_models\r\n",
      "step_number = -1\r\n",
      "output_dir = ./lammps_weights\r\n",
      "output_type = LAMMPS\r\n",
      "train_input = ./input_files/mytrain.ini\r\n",
      "gvector_input = ./input_files/mygvect_sample.ini\r\n"
     ]
    }
   ],
   "source": [
    "!cat {panna_cmdir+'/doc/tutorial/input_files/myextract_lammps.ini'}"
   ]
  },
  {
   "cell_type": "code",
   "execution_count": 6,
   "metadata": {
    "cell_id": "00008-199f980d-aa53-4233-be2b-9d00dfeb2205",
    "deepnote_cell_type": "code",
    "deepnote_to_be_reexecuted": false,
    "execution_millis": 5694,
    "execution_start": 1637001417542,
    "source_hash": "9f51f140",
    "tags": []
   },
   "outputs": [
    {
     "name": "stdout",
     "output_type": "stream",
     "text": [
      "2023-01-30 12:12:20.596443: W tensorflow/compiler/xla/stream_executor/platform/default/dso_loader.cc:64] Could not load dynamic library 'libnvinfer.so.7'; dlerror: libnvinfer.so.7: cannot open shared object file: No such file or directory; LD_LIBRARY_PATH: /usr/local/cuda-11.2/lib64\n",
      "2023-01-30 12:12:20.596558: W tensorflow/compiler/xla/stream_executor/platform/default/dso_loader.cc:64] Could not load dynamic library 'libnvinfer_plugin.so.7'; dlerror: libnvinfer_plugin.so.7: cannot open shared object file: No such file or directory; LD_LIBRARY_PATH: /usr/local/cuda-11.2/lib64\n",
      "2023-01-30 12:12:20.596565: W tensorflow/compiler/tf2tensorrt/utils/py_utils.cc:38] TF-TRT Warning: Cannot dlopen some TensorRT libraries. If you would like to use Nvidia GPU with TensorRT, please make sure the missing libraries mentioned above are installed properly.\n",
      "INFO - \n",
      "    ____   _    _   _ _   _    _           \n",
      "   |  _ \\ / \\  | \\ | | \\ | |  / \\     \n",
      "   | |_) / _ \\ |  \\| |  \\| | / _ \\     \n",
      "   |  __/ ___ \\| |\\  | |\\  |/ ___ \\    \n",
      "   |_| /_/   \\_\\_| \\_|_| \\_/_/   \\_\\ \n",
      "\n",
      " Properties from Artificial Neural Network Architectures\n",
      "\n",
      "INFO - PBC will be determined by lattice parameters in the json file for each example\n",
      "INFO - Radial Gaussian centers are set by Rs0_rad, Rc_rad, RsN_rad\n",
      "INFO - Angular descriptor centers are set by ThetasN\n",
      "INFO - Radial-angular Gaussian centers areset by Rs0_ang, Rc_ang, RsN_ang\n",
      "INFO - g type: mBP\n",
      "INFO - g DOI: 10.1016/j.cpc.2020.107402\n",
      "INFO - g size: 384\n",
      "INFO - Will load weights from file ./mytrain/_models/epoch_10_step_1000\n",
      "INFO - reading ./input_files/mytrain.ini\n",
      "INFO - Found a default network!\n",
      "INFO - This network size will be used as default for all species unless specified otherwise\n",
      "INFO - GVERSION 1\n",
      "INFO - H network_offset=-13.62\n",
      "INFO - C network_offset=-1029.41\n",
      "INFO - O network_offset=-2041.84\n",
      "INFO - N network_offset=-1484.87\n"
     ]
    }
   ],
   "source": [
    "!cd {panna_cmdir+'/doc/tutorial/'}; python {panna_cmdir+'/src/panna/extract_weights.py'} --config ./input_files/myextract_lammps.ini"
   ]
  },
  {
   "cell_type": "code",
   "execution_count": 7,
   "metadata": {
    "cell_id": "00012-89485d33-77b9-46fd-99fc-7dbb5f0a475e",
    "deepnote_cell_type": "code",
    "deepnote_to_be_reexecuted": false,
    "execution_millis": 1207,
    "execution_start": 1637001432176,
    "source_hash": "db14645e",
    "tags": []
   },
   "outputs": [
    {
     "name": "stdout",
     "output_type": "stream",
     "text": [
      "panna.in  weights_C.dat  weights_H.dat\tweights_N.dat  weights_O.dat\r\n"
     ]
    }
   ],
   "source": [
    "# LAMMPS data format outputs:\n",
    "!ls {panna_cmdir+'/doc/tutorial/lammps_weights/'}"
   ]
  },
  {
   "cell_type": "code",
   "execution_count": 8,
   "metadata": {
    "cell_id": "00012-67252843-39ec-4d92-8004-36daa3b6e9cb",
    "deepnote_cell_type": "code",
    "deepnote_to_be_reexecuted": false,
    "execution_millis": 651,
    "execution_start": 1636985040172,
    "source_hash": "b1623ac7",
    "tags": []
   },
   "outputs": [
    {
     "name": "stdout",
     "output_type": "stream",
     "text": [
      "!gversion = 1\r\n",
      "[GVECT_PARAMETERS]\r\n",
      "Nspecies = 4\r\n",
      "species = H,C,O,N\r\n",
      "RsN_rad = 16\r\n",
      "eta_rad = [16.0, 16.0, 16.0, 16.0, 16.0, 16.0, 16.0, 16.0, 16.0, 16.0, 16.0, 16.0, 16.0, 16.0, 16.0, 16.0]\r\n",
      "Rc_rad = 4.6\r\n",
      "Rs_rad = [0.5, 0.75625, 1.0125, 1.2687499999999998, 1.525, 1.78125, 2.0374999999999996, 2.2937499999999997, 2.55, 2.80625, 3.0625, 3.3187499999999996, 3.5749999999999997, 3.83125, 4.0874999999999995, 4.34375]\r\n",
      "RsN_ang = 4\r\n",
      "eta_ang = [6.0, 6.0, 6.0, 6.0]\r\n",
      "Rc_ang = 3.1\r\n",
      "Rs_ang = [0.5, 1.15, 1.7999999999999998, 2.4499999999999997]\r\n",
      "ThetasN = 8\r\n",
      "zeta = [50, 50, 50, 50, 50, 50, 50, 50]\r\n",
      "Thetas = [0.19634954084936207, 0.5890486225480862, 0.9817477042468103, 1.3744467859455345, 1.7671458676442586, 2.1598449493429825, 2.552544031041707, 2.945243112740431]\r\n",
      "\r\n",
      "[H]\r\n",
      "Nlayers = 3\r\n",
      "sizes = 128,32,1\r\n",
      "file = weights_H.dat\r\n",
      "activations = 1,1,0\r\n",
      "\r\n",
      "[C]\r\n",
      "Nlayers = 3\r\n",
      "sizes = 128,32,1\r\n",
      "file = weights_C.dat\r\n",
      "activations = 1,1,0\r\n",
      "\r\n",
      "[O]\r\n",
      "Nlayers = 3\r\n",
      "sizes = 128,32,1\r\n",
      "file = weights_O.dat\r\n",
      "activations = 1,1,0\r\n",
      "\r\n",
      "[N]\r\n",
      "Nlayers = 3\r\n",
      "sizes = 128,32,1\r\n",
      "file = weights_N.dat\r\n",
      "activations = 1,1,0\r\n"
     ]
    }
   ],
   "source": [
    "# And the file specifying the network reads\n",
    "!cat {panna_cmdir+'/doc/tutorial/lammps_weights/panna.in'}"
   ]
  },
  {
   "cell_type": "markdown",
   "metadata": {
    "cell_id": "00014-00cb2ac3-6610-4924-9cc4-aa94945866a6",
    "deepnote_cell_type": "markdown",
    "tags": []
   },
   "source": [
    "### Part 3b - Use the PANNA potential in an MD calculation with LAMMPS"
   ]
  },
  {
   "cell_type": "markdown",
   "metadata": {
    "cell_id": "00015-dca4d072-5f42-4526-b672-05cfc7a01417",
    "deepnote_cell_type": "markdown",
    "tags": []
   },
   "source": [
    "The mock network we have created so far is not the best to force field out there as we have used little data and a very short training -- to demonstrate this step, we will use a network that is fairly close to a published one (here: https://www.nature.com/articles/s41524-021-00508-6 )\n",
    "\n",
    "This is a Carbon potential with G-vector size 144, two hidden layers with 64 and 32 nodes. This results in a network with ~10k parameters. Network is given here in lammps format under  "
   ]
  },
  {
   "cell_type": "code",
   "execution_count": 2,
   "metadata": {
    "cell_id": "00017-a1ef9f96-0c37-4079-b4ef-ab86ecdb793e",
    "deepnote_cell_type": "code",
    "deepnote_to_be_reexecuted": false,
    "execution_millis": 678,
    "execution_start": 1636985184508,
    "source_hash": "de41d14b",
    "tags": []
   },
   "outputs": [
    {
     "name": "stdout",
     "output_type": "stream",
     "text": [
      "weights_C.dat  weights.out\r\n"
     ]
    }
   ],
   "source": [
    "!ls {panna_cmdir+'/doc/tutorial/tutorial_data/C_net/'}"
   ]
  },
  {
   "cell_type": "markdown",
   "metadata": {
    "cell_id": "00016-d3a47609-e505-4704-a734-ed8bf55c062f",
    "deepnote_cell_type": "markdown",
    "tags": []
   },
   "source": [
    "To use this potential, LAMMPS and the PANNA plugin need to be installed.\n",
    "\n",
    "The main LAMMPS code can be downloaded here: https://www.lammps.org/download.html\n",
    "\n",
    "For the PANNA plugin the files `pair_panna.cpp` and `pair_panna.h` found in `src/panna/interfaces/` should be copied to the LAMMPS `src` before compilation.\n",
    "\n",
    "While you can find better compilation instructions for your system on the LAMMPS website, a sample installation procedure with `cmake` would look like this:\n",
    " \n",
    "```\n",
    "cd lammps/\n",
    "mkdir build; cd build\n",
    "cmake ../cmake\n",
    "cmake --build .\n",
    "```\n",
    "which should create the `lmp` executable under `build`.\n",
    "\n",
    "If you didn't do it before, please specify your lammps command before proceeding."
   ]
  },
  {
   "cell_type": "markdown",
   "metadata": {
    "cell_id": "00020-a78a865d-c207-4a40-a84f-185a18593acf",
    "deepnote_cell_type": "markdown",
    "tags": []
   },
   "source": [
    "Now we can use the executable, the Carbon potential and run a basic lammps MD with the input file that looks like the following, for example, for an NVE run with initial velocities at 300K:"
   ]
  },
  {
   "cell_type": "code",
   "execution_count": 3,
   "metadata": {
    "cell_id": "00021-5946cd65-6575-45a1-badf-434e71a033a7",
    "deepnote_cell_type": "code",
    "deepnote_to_be_reexecuted": false,
    "execution_millis": 994,
    "execution_start": 1636986528914,
    "source_hash": "a0e6bc20",
    "tags": []
   },
   "outputs": [
    {
     "name": "stdout",
     "output_type": "stream",
     "text": [
      "##########################################################\r\n",
      "# Simple cell relaxation CUBIC CELL\r\n",
      "##########################################################\r\n",
      "dimension       3\r\n",
      "boundary        p p p   # periodic boundary conditions \r\n",
      "atom_style      atomic\r\n",
      "atom_modify     map array\r\n",
      "\r\n",
      "units           metal\r\n",
      "variable a equal 3.58\r\n",
      "lattice         diamond $a\r\n",
      "region          box prism 0 1.0 0 1.0 0 1.0 0.0 0.0 0.0\r\n",
      "create_box      1 box\r\n",
      "create_atoms    1 box\r\n",
      "\r\n",
      "pair_style      panna\r\n",
      "pair_coeff * * tutorial_data/C_net/ weights.out\r\n",
      "\r\n",
      "mass 1 12.0107\r\n",
      "\r\n",
      "velocity all create 300.0 4928459\r\n",
      "\r\n",
      "timestep 0.001\r\n",
      "thermo           5\r\n",
      "thermo_style custom step temp pe etotal press vol cella cellb cellc\r\n",
      "fix 1 all nve\r\n",
      "\r\n",
      "dump            23 all custom 1 lammps_nve.dat id type x y z fx fy fz \r\n",
      "\r\n",
      "dump_modify     23 element C\r\n",
      "\r\n",
      "run 100\r\n"
     ]
    }
   ],
   "source": [
    "!cat {panna_cmdir+'/doc/tutorial/input_files/lammps_nve.in'}"
   ]
  },
  {
   "cell_type": "markdown",
   "metadata": {
    "cell_id": "00022-b053e112-c7b4-4f51-99ce-9856b3e07a7d",
    "deepnote_cell_type": "markdown",
    "tags": []
   },
   "source": [
    "We can now briefly run LAMMPS (it should take a few seconds) and inspect the output log file."
   ]
  },
  {
   "cell_type": "code",
   "execution_count": 4,
   "metadata": {},
   "outputs": [
    {
     "name": "stdout",
     "output_type": "stream",
     "text": [
      "LAMMPS (24 Dec 2020)\n",
      "OMP_NUM_THREADS environment is not set. Defaulting to 1 thread. (src/comm.cpp:94)\n",
      "  using 1 OpenMP thread(s) per MPI task\n",
      "Lattice spacing in x,y,z = 3.5800000 3.5800000 3.5800000\n",
      "Created triclinic box = (0.0000000 0.0000000 0.0000000) to (3.5800000 3.5800000 3.5800000) with tilt (0.0000000 0.0000000 0.0000000)\n",
      "  1 by 1 by 1 MPI processor grid\n",
      "Created 8 atoms\n",
      "  create_atoms CPU = 0.000 seconds\n",
      "Loading PANNA pair parameters from tutorial_data/C_net//weights.out\n",
      "G Version is 0\n",
      "G Version is 0\n",
      "G Version is 0\n",
      "G Version is 0\n",
      "G Version is 0\n",
      "G Version is 0\n",
      "G Version is 0\n",
      "G Version is 0\n",
      "G Version is 0\n",
      "G Version is 0\n",
      "G Version is 0\n",
      "G Version is 0\n",
      "G Version is 0\n",
      "G Version is 0\n",
      "Network loaded!\n",
      "Neighbor list info ...\n",
      "  update every 10 steps, delay 0 steps, check yes\n",
      "  max neighbors/atom: 2000, page size: 100000\n",
      "  master list distance cutoff = 5.6\n",
      "  ghost atom cutoff = 5.6\n",
      "  binsize = 2.8, bins = 2 2 2\n",
      "  1 neighbor lists, perpetual/occasional/extra = 1 0 0\n",
      "  (1) pair panna, perpetual\n",
      "      attributes: full, newton on\n",
      "      pair build: full/bin/atomonly\n",
      "      stencil: full/bin/3d\n",
      "      bin: standard\n",
      "Setting up Verlet run ...\n",
      "  Unit style    : metal\n",
      "  Current step  : 0\n",
      "  Time step     : 0.001\n",
      "Per MPI rank memory allocation (min/avg/max) = 4.215 | 4.215 | 4.215 Mbytes\n",
      "Step Temp PotEng TotEng Press Volume Cella Cellb Cellc \n",
      "       0          300   -2033.3186   -2033.0472   -6585.8611    45.882712         3.58         3.58         3.58 \n",
      "       5    86.811407   -2033.1235    -2033.045    -4955.568    45.882712         3.58         3.58         3.58 \n",
      "      10    80.003046   -2033.1176   -2033.0452    -6546.962    45.882712         3.58         3.58         3.58 \n",
      "      15    239.14013   -2033.2631   -2033.0467   -9242.1728    45.882712         3.58         3.58         3.58 \n",
      "      20    110.41591   -2033.1449    -2033.045   -3383.7777    45.882712         3.58         3.58         3.58 \n",
      "      25    162.36333   -2033.1928   -2033.0459    -5133.316    45.882712         3.58         3.58         3.58 \n",
      "      30    170.20664   -2033.2001   -2033.0461   -9315.0886    45.882712         3.58         3.58         3.58 \n",
      "      35    77.014417   -2033.1146   -2033.0449   -6520.2531    45.882712         3.58         3.58         3.58 \n",
      "      40    208.27969   -2033.2347   -2033.0463   -4690.1251    45.882712         3.58         3.58         3.58 \n",
      "      45    178.83448   -2033.2077   -2033.0459   -5274.3705    45.882712         3.58         3.58         3.58 \n",
      "      50    91.869132   -2033.1283   -2033.0452   -7961.2344    45.882712         3.58         3.58         3.58 \n",
      "      55    158.63077   -2033.1896    -2033.046     -7241.68    45.882712         3.58         3.58         3.58 \n",
      "      60    151.72689   -2033.1828   -2033.0455   -3656.3977    45.882712         3.58         3.58         3.58 \n",
      "      65    176.62286   -2033.2057   -2033.0459   -6142.4975    45.882712         3.58         3.58         3.58 \n",
      "      70    152.70889    -2033.184   -2033.0458   -7845.9644    45.882712         3.58         3.58         3.58 \n",
      "      75    95.000376   -2033.1312   -2033.0453   -6052.2927    45.882712         3.58         3.58         3.58 \n",
      "      80    170.47053   -2033.2001   -2033.0459   -6560.2012    45.882712         3.58         3.58         3.58 \n",
      "      85    197.64156   -2033.2248    -2033.046   -4981.6077    45.882712         3.58         3.58         3.58 \n",
      "      90    130.32149   -2033.1635   -2033.0456   -5823.9965    45.882712         3.58         3.58         3.58 \n",
      "      95    98.507819   -2033.1345   -2033.0454    -7492.683    45.882712         3.58         3.58         3.58 \n",
      "     100    176.47914   -2033.2055   -2033.0458   -6758.5892    45.882712         3.58         3.58         3.58 \n",
      "Loop time of 9.71808 on 1 procs for 100 steps with 8 atoms\n",
      "\n",
      "Performance: 0.889 ns/day, 26.995 hours/ns, 10.290 timesteps/s\n",
      "99.6% CPU use with 1 MPI tasks x 1 OpenMP threads\n",
      "\n",
      "MPI task timing breakdown:\n",
      "Section |  min time  |  avg time  |  max time  |%varavg| %total\n",
      "---------------------------------------------------------------\n",
      "Pair    | 9.7144     | 9.7144     | 9.7144     |   0.0 | 99.96\n",
      "Neigh   | 0          | 0          | 0          |   0.0 |  0.00\n",
      "Comm    | 0.00037098 | 0.00037098 | 0.00037098 |   0.0 |  0.00\n",
      "Output  | 0.0030663  | 0.0030663  | 0.0030663  |   0.0 |  0.03\n",
      "Modify  | 6.628e-05  | 6.628e-05  | 6.628e-05  |   0.0 |  0.00\n",
      "Other   |            | 0.0001366  |            |       |  0.00\n",
      "\n",
      "Nlocal:        8.00000 ave           8 max           8 min\n",
      "Histogram: 1 0 0 0 0 0 0 0 0 0\n",
      "Nghost:        612.000 ave         612 max         612 min\n",
      "Histogram: 1 0 0 0 0 0 0 0 0 0\n",
      "Neighs:         0.00000 ave           0 max           0 min\n",
      "Histogram: 1 0 0 0 0 0 0 0 0 0\n",
      "FullNghs:      976.000 ave         976 max         976 min\n",
      "Histogram: 1 0 0 0 0 0 0 0 0 0\n",
      "\n",
      "Total # of neighbors = 976\n",
      "Ave neighs/atom = 122.00000\n",
      "Neighbor list builds = 0\n",
      "Dangerous builds = 0\n",
      "Total wall time: 0:00:09\n"
     ]
    }
   ],
   "source": [
    "!cd {panna_cmdir+'/doc/tutorial/'}; {lammps_cmd} -i input_files/lammps_nve.in"
   ]
  },
  {
   "cell_type": "code",
   "execution_count": 5,
   "metadata": {
    "cell_id": "00023-0e7df3dd-78ac-4c12-b191-5d6312c563dc",
    "deepnote_cell_type": "code",
    "deepnote_to_be_reexecuted": false,
    "execution_millis": 881,
    "execution_start": 1636987196984,
    "source_hash": "bdfa9802",
    "tags": []
   },
   "outputs": [
    {
     "name": "stdout",
     "output_type": "stream",
     "text": [
      "LAMMPS (24 Dec 2020)\r\n",
      "OMP_NUM_THREADS environment is not set. Defaulting to 1 thread. (src/comm.cpp:94)\r\n",
      "  using 1 OpenMP thread(s) per MPI task\r\n",
      "##########################################################\r\n",
      "# Simple cell relaxation CUBIC CELL\r\n",
      "##########################################################\r\n",
      "dimension       3\r\n",
      "boundary        p p p   # periodic boundary conditions\r\n",
      "atom_style      atomic\r\n",
      "atom_modify     map array\r\n",
      "\r\n",
      "units           metal\r\n",
      "variable a equal 3.58\r\n",
      "lattice         diamond $a\r\n",
      "lattice         diamond 3.58\r\n",
      "Lattice spacing in x,y,z = 3.5800000 3.5800000 3.5800000\r\n",
      "region          box prism 0 1.0 0 1.0 0 1.0 0.0 0.0 0.0\r\n",
      "create_box      1 box\r\n",
      "Created triclinic box = (0.0000000 0.0000000 0.0000000) to (3.5800000 3.5800000 3.5800000) with tilt (0.0000000 0.0000000 0.0000000)\r\n",
      "  1 by 1 by 1 MPI processor grid\r\n"
     ]
    }
   ],
   "source": [
    "!head -20 {panna_cmdir+'/doc/tutorial/log.lammps'}"
   ]
  },
  {
   "cell_type": "markdown",
   "metadata": {},
   "source": [
    "### Part 3b - Use the PANNA potential in an MD calculation with ASE"
   ]
  },
  {
   "cell_type": "markdown",
   "metadata": {},
   "source": [
    "In the following, we will show how to use a potential with the ASE code.\n",
    "Similar to what was shown previously, a potential can be extracted from the training by calling ``extract_weights.py`` and setting ``output_type`` to ``ASE``. This will create a text configuration file (see below for a look at this file) and copy the desired model to a folder.\n",
    "\n",
    "As done with LAMMPS, we will use a premade potential for Carbon in this example: a modest model with a descriptor of size 152, and 2 hidden layers of size 64 and 32.\n",
    "\n",
    "If you have not installed ASE, the next cell give you an opportunity to do so."
   ]
  },
  {
   "cell_type": "code",
   "execution_count": 4,
   "metadata": {},
   "outputs": [],
   "source": [
    "# Uncomment this cell if you want to install ASE\n",
    "#!pip install ase\n",
    "\n",
    "# Importing ASE modules\n",
    "import ase\n",
    "import ase.md\n",
    "\n",
    "# Importing our calculator\n",
    "from panna.interfaces.ASE import PANNACalculator"
   ]
  },
  {
   "cell_type": "markdown",
   "metadata": {},
   "source": [
    "The configuration file generated for ASE simply contains some information taken from your training and gvector input. In addition, it specifies the location of the parameter file.\n",
    "\n",
    "All these data are in plain text and can be modified, but of course be careful of the compatibility with the parameter file."
   ]
  },
  {
   "cell_type": "code",
   "execution_count": 5,
   "metadata": {},
   "outputs": [
    {
     "name": "stdout",
     "output_type": "stream",
     "text": [
      "[IO_INFORMATION]\r\n",
      "input_format = example\r\n",
      "network_file = ./model/epoch_140_step_500000\r\n",
      "\r\n",
      "[DATA_INFORMATION]\r\n",
      "atomic_sequence = C\r\n",
      "output_offset = 0.0\r\n",
      "\r\n",
      "[DEFAULT_NETWORK]\r\n",
      "g_size = 152\r\n",
      "architecture = 64:32:1\r\n",
      "trainable = 1:1:1\r\n",
      "\r\n",
      "[SYMMETRY_FUNCTION]\r\n",
      "type = mBP\r\n",
      "species = C\r\n",
      "\r\n",
      "[GVECT_PARAMETERS]\r\n",
      "gvect_parameters_unit = angstrom\r\n",
      "eta_rad = 32\r\n",
      "Rc_rad = 5.0\r\n",
      "Rs0_rad = 0.5\r\n",
      "RsN_rad = 24\r\n",
      "eta_ang = 16.0\r\n",
      "Rc_ang = 5.0\r\n",
      "Rs0_ang = 0.5\r\n",
      "RsN_ang = 8\r\n",
      "zeta = 128.0\r\n",
      "ThetasN = 16\r\n"
     ]
    }
   ],
   "source": [
    "!cat {panna_cmdir+'/doc/tutorial/tutorial_data/C_ASE/C_model.in'}"
   ]
  },
  {
   "cell_type": "markdown",
   "metadata": {},
   "source": [
    "In the next cell we show as small example of running a few steps of Langevin dynamics.\n",
    "We load a small configuration of 16 Carbon atoms, we load our calculator, then we attach our calculator to the configuration and we can set up and run the dynamics.\n",
    "\n",
    "Here, we simply print the initial and final position to show that the dynamics has run. The plugin will use your GPU if available, and should be quite fast, apart from the first step in which the model needs to be set up: just to show this, we take the first step separately (the calculator might also output several tensorflow warnings)."
   ]
  },
  {
   "cell_type": "code",
   "execution_count": 7,
   "metadata": {},
   "outputs": [
    {
     "name": "stdout",
     "output_type": "stream",
     "text": [
      "INFO - reading /home/pellegrini/panna_prerelease/doc/tutorial/tutorial_data/C_ASE/C_model.in\n",
      "INFO - Found a default network!\n",
      "INFO - This network size will be used as default for all species unless specified otherwise\n",
      "INFO - Radial Gaussian centers are set by Rs0_rad, Rc_rad, RsN_rad\n",
      "INFO - Angular descriptor centers are set by ThetasN\n",
      "INFO - Radial-angular Gaussian centers are set by Rs0_ang, Rc_ang, RsN_ang\n",
      "[[ 1.3319575   1.56879852  1.18932058]\n",
      " [ 4.12971908  4.01165022  1.18729786]\n",
      " [ 0.49888834  1.61777113  2.34113123]\n",
      " [ 0.98289671  2.32240847  0.03216651]\n",
      " [ 0.84791568  0.86458353  3.49852078]\n",
      " [ 4.81177067  2.48599037  3.49436865]\n",
      " [-0.18364178  3.14267971  0.03403708]\n",
      " [ 5.2960202   3.19093074  1.18550115]\n",
      " [ 3.29723893  4.06126866  2.33947783]\n",
      " [ 3.78063809  4.76468126  0.02990831]\n",
      " [ 3.6455188   3.30681149  3.49613758]\n",
      " [-0.66784648  2.43782079  2.34283072]\n",
      " [ 3.32801088  0.69459256  0.03340893]\n",
      " [ 2.01206277  0.04104273  3.49528784]\n",
      " [ 2.49613995  0.74529307  1.18610153]\n",
      " [ 2.84435226 -0.00921144  2.34288186]]\n",
      "Setting up the calculator\n",
      "WARNING: AutoGraph could not transform <function unpack_data at 0x7fa78f035b90> and will run it as-is.\n",
      "Please report this to the TensorFlow team. When filing the bug, set the verbosity to 10 (on Linux, `export AUTOGRAPH_VERBOSITY=10`) and attach the full output.\n",
      "Cause: module 'gast' has no attribute 'Constant'\n",
      "To silence this warning, decorate the function with @tf.autograph.experimental.do_not_convert\n",
      "WARNING: AutoGraph could not transform <bound method GvectmBP.tf_g of <tensorflow.python.eager.polymorphic_function.tracing_compiler.TfMethodTarget object at 0x7fa6fc7492d0>> and will run it as-is.\n",
      "Please report this to the TensorFlow team. When filing the bug, set the verbosity to 10 (on Linux, `export AUTOGRAPH_VERBOSITY=10`) and attach the full output.\n",
      "Cause: module 'gast' has no attribute 'Constant'\n",
      "To silence this warning, decorate the function with @tf.autograph.experimental.do_not_convert\n",
      "WARNING: AutoGraph could not transform <function tf_GdG_radial at 0x7fa70adb4680> and will run it as-is.\n",
      "Please report this to the TensorFlow team. When filing the bug, set the verbosity to 10 (on Linux, `export AUTOGRAPH_VERBOSITY=10`) and attach the full output.\n",
      "Cause: 'arguments' object has no attribute 'posonlyargs'\n",
      "To silence this warning, decorate the function with @tf.autograph.experimental.do_not_convert\n",
      "WARNING: AutoGraph could not transform <function tf_cutoffR at 0x7fa70ae26cb0> and will run it as-is.\n",
      "Please report this to the TensorFlow team. When filing the bug, set the verbosity to 10 (on Linux, `export AUTOGRAPH_VERBOSITY=10`) and attach the full output.\n",
      "Cause: 'arguments' object has no attribute 'posonlyargs'\n",
      "To silence this warning, decorate the function with @tf.autograph.experimental.do_not_convert\n",
      "WARNING: AutoGraph could not transform <function tf_dcutoffR at 0x7fa70adb4200> and will run it as-is.\n",
      "Please report this to the TensorFlow team. When filing the bug, set the verbosity to 10 (on Linux, `export AUTOGRAPH_VERBOSITY=10`) and attach the full output.\n",
      "Cause: 'arguments' object has no attribute 'posonlyargs'\n",
      "To silence this warning, decorate the function with @tf.autograph.experimental.do_not_convert\n",
      "WARNING: AutoGraph could not transform <function pfor.<locals>.f at 0x7fa6fc61c560> and will run it as-is.\n",
      "Please report this to the TensorFlow team. When filing the bug, set the verbosity to 10 (on Linux, `export AUTOGRAPH_VERBOSITY=10`) and attach the full output.\n",
      "Cause: 'arguments' object has no attribute 'posonlyargs'\n",
      "To silence this warning, decorate the function with @tf.autograph.experimental.do_not_convert\n",
      "WARNING: AutoGraph could not transform <function tf_GdG_angular_mBP_1at at 0x7fa70adb4d40> and will run it as-is.\n",
      "Please report this to the TensorFlow team. When filing the bug, set the verbosity to 10 (on Linux, `export AUTOGRAPH_VERBOSITY=10`) and attach the full output.\n",
      "Cause: module 'gast' has no attribute 'Constant'\n",
      "To silence this warning, decorate the function with @tf.autograph.experimental.do_not_convert\n",
      "WARNING: AutoGraph could not transform <function tf_cutoffA_1a at 0x7fa70adb48c0> and will run it as-is.\n",
      "Please report this to the TensorFlow team. When filing the bug, set the verbosity to 10 (on Linux, `export AUTOGRAPH_VERBOSITY=10`) and attach the full output.\n",
      "Cause: 'arguments' object has no attribute 'posonlyargs'\n",
      "To silence this warning, decorate the function with @tf.autograph.experimental.do_not_convert\n",
      "WARNING: AutoGraph could not transform <function tf_dcutoffA_1a at 0x7fa70adb4b00> and will run it as-is.\n",
      "Please report this to the TensorFlow team. When filing the bug, set the verbosity to 10 (on Linux, `export AUTOGRAPH_VERBOSITY=10`) and attach the full output.\n",
      "Cause: 'arguments' object has no attribute 'posonlyargs'\n",
      "To silence this warning, decorate the function with @tf.autograph.experimental.do_not_convert\n",
      "WARNING: AutoGraph could not transform <function _convert_function_call.<locals>.f at 0x7fa6fc4c5200> and will run it as-is.\n",
      "Please report this to the TensorFlow team. When filing the bug, set the verbosity to 10 (on Linux, `export AUTOGRAPH_VERBOSITY=10`) and attach the full output.\n",
      "Cause: 'arguments' object has no attribute 'posonlyargs'\n",
      "To silence this warning, decorate the function with @tf.autograph.experimental.do_not_convert\n",
      "WARNING: AutoGraph could not transform <function _convert_function_call.<locals>.f at 0x7fa6fc40b710> and will run it as-is.\n",
      "Please report this to the TensorFlow team. When filing the bug, set the verbosity to 10 (on Linux, `export AUTOGRAPH_VERBOSITY=10`) and attach the full output.\n",
      "Cause: 'arguments' object has no attribute 'posonlyargs'\n",
      "To silence this warning, decorate the function with @tf.autograph.experimental.do_not_convert\n",
      "WARNING: AutoGraph could not transform <function _convert_function_call.<locals>.f at 0x7fa6fc285950> and will run it as-is.\n",
      "Please report this to the TensorFlow team. When filing the bug, set the verbosity to 10 (on Linux, `export AUTOGRAPH_VERBOSITY=10`) and attach the full output.\n",
      "Cause: 'arguments' object has no attribute 'posonlyargs'\n",
      "To silence this warning, decorate the function with @tf.autograph.experimental.do_not_convert\n",
      "Setup finished, starting 100 steps of dynamics\n",
      "Dynamics finished\n",
      "[[ 1.33730626  1.56863098  1.19104281]\n",
      " [ 4.12639578  4.01173937  1.18397801]\n",
      " [ 0.49985684  1.61525051  2.33986333]\n",
      " [ 0.97819627  2.3171428   0.03407521]\n",
      " [ 0.85280446  0.86700999  3.50180799]\n",
      " [ 4.81026582  2.48196101  3.48958059]\n",
      " [-0.18546964  3.13251638  0.02119233]\n",
      " [ 5.29032399  3.19253387  1.18281671]\n",
      " [ 3.29611855  4.06170352  2.33910535]\n",
      " [ 3.78012764  4.77141404  0.03569826]\n",
      " [ 3.6424543   3.30546002  3.49848697]\n",
      " [-0.67277821  2.43402761  2.33927975]\n",
      " [ 3.33044307  0.69682977  0.03839409]\n",
      " [ 2.01762598  0.04710288  3.50354195]\n",
      " [ 2.50494269  0.75082564  1.19150758]\n",
      " [ 2.84065064 -0.01108839  2.34792819]]\n"
     ]
    }
   ],
   "source": [
    "myconf = ase.io.read(panna_dir+'/doc/tutorial/tutorial_data/C_ASE/myconf.xyz', ':')[0]\n",
    "pcalc = PANNACalculator(config=panna_dir+'/doc/tutorial/tutorial_data/C_ASE/C_model.in')\n",
    "myconf.set_calculator(pcalc)\n",
    "print(myconf.get_positions())\n",
    "print(\"Setting up the calculator\")\n",
    "dyn = ase.md.langevin.Langevin(myconf, ase.units.fs, temperature_K=300, friction=2e-3)\n",
    "dyn.run(1)\n",
    "print(\"Setup finished, starting 100 steps of dynamics\")\n",
    "dyn.run(100)\n",
    "print(\"Dynamics finished\")\n",
    "print(myconf.get_positions())"
   ]
  },
  {
   "cell_type": "code",
   "execution_count": null,
   "metadata": {},
   "outputs": [],
   "source": []
  },
  {
   "cell_type": "code",
   "execution_count": 8,
   "metadata": {},
   "outputs": [],
   "source": [
    "# Run this to cleanup the tutorial directory\n",
    "# (will also cleanup the outputs of tutorial 2)\n",
    "!cd {panna_cmdir+'/doc/tutorial'}; rm -rf mytrain mytrain_logs myvalidation tf.log lammps_weights panna_weights lammps_nve.dat log.lammps"
   ]
  },
  {
   "cell_type": "markdown",
   "metadata": {
    "cell_id": "00023-b2d4cf43-ac34-4631-ad88-d132e7584ea6",
    "deepnote_cell_type": "markdown",
    "tags": []
   },
   "source": [
    "##### Now you know how to generate NN interatomic potentials -- go ahead and use them for good!\n",
    "##### The world needs your solutions for the climate crisis!"
   ]
  }
 ],
 "metadata": {
  "kernelspec": {
   "display_name": "Python 3",
   "language": "python",
   "name": "python3"
  },
  "language_info": {
   "codemirror_mode": {
    "name": "ipython",
    "version": 3
   },
   "file_extension": ".py",
   "mimetype": "text/x-python",
   "name": "python",
   "nbconvert_exporter": "python",
   "pygments_lexer": "ipython3",
   "version": "3.7.16"
  }
 },
 "nbformat": 4,
 "nbformat_minor": 2
}
